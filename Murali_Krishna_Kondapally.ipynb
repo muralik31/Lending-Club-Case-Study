{
 "cells": [
  {
   "metadata": {
    "ExecuteTime": {
     "end_time": "2024-12-22T15:06:59.984635Z",
     "start_time": "2024-12-22T15:06:59.981571Z"
    }
   },
   "cell_type": "code",
   "source": [
    "import pandas as pd\n",
    "import numpy as np\n",
    "import matplotlib.pyplot as plt\n",
    "%matplotlib inline\n",
    "import seaborn as sns\n",
    "import warnings\n",
    "warnings.filterwarnings('ignore')\n",
    "print('Packages imported successfully')"
   ],
   "id": "29d4708b7592f29b",
   "outputs": [
    {
     "name": "stdout",
     "output_type": "stream",
     "text": [
      "Packages imported successfully\n"
     ]
    }
   ],
   "execution_count": 172
  },
  {
   "metadata": {
    "ExecuteTime": {
     "end_time": "2024-12-22T15:07:03.018513Z",
     "start_time": "2024-12-22T15:07:02.737324Z"
    }
   },
   "cell_type": "code",
   "source": [
    "df=pd.read_csv(\"loan.csv\")\n",
    "df.head()"
   ],
   "id": "e18b2fae850f86a2",
   "outputs": [
    {
     "data": {
      "text/plain": [
       "        id  member_id  loan_amnt  funded_amnt  funded_amnt_inv        term  \\\n",
       "0  1077501    1296599       5000         5000           4975.0   36 months   \n",
       "1  1077430    1314167       2500         2500           2500.0   60 months   \n",
       "2  1077175    1313524       2400         2400           2400.0   36 months   \n",
       "3  1076863    1277178      10000        10000          10000.0   36 months   \n",
       "4  1075358    1311748       3000         3000           3000.0   60 months   \n",
       "\n",
       "  int_rate  installment grade sub_grade  ... num_tl_90g_dpd_24m  \\\n",
       "0   10.65%       162.87     B        B2  ...                NaN   \n",
       "1   15.27%        59.83     C        C4  ...                NaN   \n",
       "2   15.96%        84.33     C        C5  ...                NaN   \n",
       "3   13.49%       339.31     C        C1  ...                NaN   \n",
       "4   12.69%        67.79     B        B5  ...                NaN   \n",
       "\n",
       "  num_tl_op_past_12m pct_tl_nvr_dlq  percent_bc_gt_75 pub_rec_bankruptcies  \\\n",
       "0                NaN            NaN               NaN                  0.0   \n",
       "1                NaN            NaN               NaN                  0.0   \n",
       "2                NaN            NaN               NaN                  0.0   \n",
       "3                NaN            NaN               NaN                  0.0   \n",
       "4                NaN            NaN               NaN                  0.0   \n",
       "\n",
       "  tax_liens tot_hi_cred_lim total_bal_ex_mort total_bc_limit  \\\n",
       "0       0.0             NaN               NaN            NaN   \n",
       "1       0.0             NaN               NaN            NaN   \n",
       "2       0.0             NaN               NaN            NaN   \n",
       "3       0.0             NaN               NaN            NaN   \n",
       "4       0.0             NaN               NaN            NaN   \n",
       "\n",
       "  total_il_high_credit_limit  \n",
       "0                        NaN  \n",
       "1                        NaN  \n",
       "2                        NaN  \n",
       "3                        NaN  \n",
       "4                        NaN  \n",
       "\n",
       "[5 rows x 111 columns]"
      ],
      "text/html": [
       "<div>\n",
       "<style scoped>\n",
       "    .dataframe tbody tr th:only-of-type {\n",
       "        vertical-align: middle;\n",
       "    }\n",
       "\n",
       "    .dataframe tbody tr th {\n",
       "        vertical-align: top;\n",
       "    }\n",
       "\n",
       "    .dataframe thead th {\n",
       "        text-align: right;\n",
       "    }\n",
       "</style>\n",
       "<table border=\"1\" class=\"dataframe\">\n",
       "  <thead>\n",
       "    <tr style=\"text-align: right;\">\n",
       "      <th></th>\n",
       "      <th>id</th>\n",
       "      <th>member_id</th>\n",
       "      <th>loan_amnt</th>\n",
       "      <th>funded_amnt</th>\n",
       "      <th>funded_amnt_inv</th>\n",
       "      <th>term</th>\n",
       "      <th>int_rate</th>\n",
       "      <th>installment</th>\n",
       "      <th>grade</th>\n",
       "      <th>sub_grade</th>\n",
       "      <th>...</th>\n",
       "      <th>num_tl_90g_dpd_24m</th>\n",
       "      <th>num_tl_op_past_12m</th>\n",
       "      <th>pct_tl_nvr_dlq</th>\n",
       "      <th>percent_bc_gt_75</th>\n",
       "      <th>pub_rec_bankruptcies</th>\n",
       "      <th>tax_liens</th>\n",
       "      <th>tot_hi_cred_lim</th>\n",
       "      <th>total_bal_ex_mort</th>\n",
       "      <th>total_bc_limit</th>\n",
       "      <th>total_il_high_credit_limit</th>\n",
       "    </tr>\n",
       "  </thead>\n",
       "  <tbody>\n",
       "    <tr>\n",
       "      <th>0</th>\n",
       "      <td>1077501</td>\n",
       "      <td>1296599</td>\n",
       "      <td>5000</td>\n",
       "      <td>5000</td>\n",
       "      <td>4975.0</td>\n",
       "      <td>36 months</td>\n",
       "      <td>10.65%</td>\n",
       "      <td>162.87</td>\n",
       "      <td>B</td>\n",
       "      <td>B2</td>\n",
       "      <td>...</td>\n",
       "      <td>NaN</td>\n",
       "      <td>NaN</td>\n",
       "      <td>NaN</td>\n",
       "      <td>NaN</td>\n",
       "      <td>0.0</td>\n",
       "      <td>0.0</td>\n",
       "      <td>NaN</td>\n",
       "      <td>NaN</td>\n",
       "      <td>NaN</td>\n",
       "      <td>NaN</td>\n",
       "    </tr>\n",
       "    <tr>\n",
       "      <th>1</th>\n",
       "      <td>1077430</td>\n",
       "      <td>1314167</td>\n",
       "      <td>2500</td>\n",
       "      <td>2500</td>\n",
       "      <td>2500.0</td>\n",
       "      <td>60 months</td>\n",
       "      <td>15.27%</td>\n",
       "      <td>59.83</td>\n",
       "      <td>C</td>\n",
       "      <td>C4</td>\n",
       "      <td>...</td>\n",
       "      <td>NaN</td>\n",
       "      <td>NaN</td>\n",
       "      <td>NaN</td>\n",
       "      <td>NaN</td>\n",
       "      <td>0.0</td>\n",
       "      <td>0.0</td>\n",
       "      <td>NaN</td>\n",
       "      <td>NaN</td>\n",
       "      <td>NaN</td>\n",
       "      <td>NaN</td>\n",
       "    </tr>\n",
       "    <tr>\n",
       "      <th>2</th>\n",
       "      <td>1077175</td>\n",
       "      <td>1313524</td>\n",
       "      <td>2400</td>\n",
       "      <td>2400</td>\n",
       "      <td>2400.0</td>\n",
       "      <td>36 months</td>\n",
       "      <td>15.96%</td>\n",
       "      <td>84.33</td>\n",
       "      <td>C</td>\n",
       "      <td>C5</td>\n",
       "      <td>...</td>\n",
       "      <td>NaN</td>\n",
       "      <td>NaN</td>\n",
       "      <td>NaN</td>\n",
       "      <td>NaN</td>\n",
       "      <td>0.0</td>\n",
       "      <td>0.0</td>\n",
       "      <td>NaN</td>\n",
       "      <td>NaN</td>\n",
       "      <td>NaN</td>\n",
       "      <td>NaN</td>\n",
       "    </tr>\n",
       "    <tr>\n",
       "      <th>3</th>\n",
       "      <td>1076863</td>\n",
       "      <td>1277178</td>\n",
       "      <td>10000</td>\n",
       "      <td>10000</td>\n",
       "      <td>10000.0</td>\n",
       "      <td>36 months</td>\n",
       "      <td>13.49%</td>\n",
       "      <td>339.31</td>\n",
       "      <td>C</td>\n",
       "      <td>C1</td>\n",
       "      <td>...</td>\n",
       "      <td>NaN</td>\n",
       "      <td>NaN</td>\n",
       "      <td>NaN</td>\n",
       "      <td>NaN</td>\n",
       "      <td>0.0</td>\n",
       "      <td>0.0</td>\n",
       "      <td>NaN</td>\n",
       "      <td>NaN</td>\n",
       "      <td>NaN</td>\n",
       "      <td>NaN</td>\n",
       "    </tr>\n",
       "    <tr>\n",
       "      <th>4</th>\n",
       "      <td>1075358</td>\n",
       "      <td>1311748</td>\n",
       "      <td>3000</td>\n",
       "      <td>3000</td>\n",
       "      <td>3000.0</td>\n",
       "      <td>60 months</td>\n",
       "      <td>12.69%</td>\n",
       "      <td>67.79</td>\n",
       "      <td>B</td>\n",
       "      <td>B5</td>\n",
       "      <td>...</td>\n",
       "      <td>NaN</td>\n",
       "      <td>NaN</td>\n",
       "      <td>NaN</td>\n",
       "      <td>NaN</td>\n",
       "      <td>0.0</td>\n",
       "      <td>0.0</td>\n",
       "      <td>NaN</td>\n",
       "      <td>NaN</td>\n",
       "      <td>NaN</td>\n",
       "      <td>NaN</td>\n",
       "    </tr>\n",
       "  </tbody>\n",
       "</table>\n",
       "<p>5 rows × 111 columns</p>\n",
       "</div>"
      ]
     },
     "execution_count": 173,
     "metadata": {},
     "output_type": "execute_result"
    }
   ],
   "execution_count": 173
  },
  {
   "metadata": {
    "ExecuteTime": {
     "end_time": "2024-12-22T15:07:07.277127Z",
     "start_time": "2024-12-22T15:07:07.269691Z"
    }
   },
   "cell_type": "code",
   "source": "df.tail()",
   "id": "7b8f9bcadf3a7640",
   "outputs": [
    {
     "data": {
      "text/plain": [
       "          id  member_id  loan_amnt  funded_amnt  funded_amnt_inv        term  \\\n",
       "39712  92187      92174       2500         2500           1075.0   36 months   \n",
       "39713  90665      90607       8500         8500            875.0   36 months   \n",
       "39714  90395      90390       5000         5000           1325.0   36 months   \n",
       "39715  90376      89243       5000         5000            650.0   36 months   \n",
       "39716  87023      86999       7500         7500            800.0   36 months   \n",
       "\n",
       "      int_rate  installment grade sub_grade  ... num_tl_90g_dpd_24m  \\\n",
       "39712    8.07%        78.42     A        A4  ...                NaN   \n",
       "39713   10.28%       275.38     C        C1  ...                NaN   \n",
       "39714    8.07%       156.84     A        A4  ...                NaN   \n",
       "39715    7.43%       155.38     A        A2  ...                NaN   \n",
       "39716   13.75%       255.43     E        E2  ...                NaN   \n",
       "\n",
       "      num_tl_op_past_12m pct_tl_nvr_dlq  percent_bc_gt_75  \\\n",
       "39712                NaN            NaN               NaN   \n",
       "39713                NaN            NaN               NaN   \n",
       "39714                NaN            NaN               NaN   \n",
       "39715                NaN            NaN               NaN   \n",
       "39716                NaN            NaN               NaN   \n",
       "\n",
       "      pub_rec_bankruptcies tax_liens tot_hi_cred_lim total_bal_ex_mort  \\\n",
       "39712                  NaN       NaN             NaN               NaN   \n",
       "39713                  NaN       NaN             NaN               NaN   \n",
       "39714                  NaN       NaN             NaN               NaN   \n",
       "39715                  NaN       NaN             NaN               NaN   \n",
       "39716                  NaN       NaN             NaN               NaN   \n",
       "\n",
       "      total_bc_limit total_il_high_credit_limit  \n",
       "39712            NaN                        NaN  \n",
       "39713            NaN                        NaN  \n",
       "39714            NaN                        NaN  \n",
       "39715            NaN                        NaN  \n",
       "39716            NaN                        NaN  \n",
       "\n",
       "[5 rows x 111 columns]"
      ],
      "text/html": [
       "<div>\n",
       "<style scoped>\n",
       "    .dataframe tbody tr th:only-of-type {\n",
       "        vertical-align: middle;\n",
       "    }\n",
       "\n",
       "    .dataframe tbody tr th {\n",
       "        vertical-align: top;\n",
       "    }\n",
       "\n",
       "    .dataframe thead th {\n",
       "        text-align: right;\n",
       "    }\n",
       "</style>\n",
       "<table border=\"1\" class=\"dataframe\">\n",
       "  <thead>\n",
       "    <tr style=\"text-align: right;\">\n",
       "      <th></th>\n",
       "      <th>id</th>\n",
       "      <th>member_id</th>\n",
       "      <th>loan_amnt</th>\n",
       "      <th>funded_amnt</th>\n",
       "      <th>funded_amnt_inv</th>\n",
       "      <th>term</th>\n",
       "      <th>int_rate</th>\n",
       "      <th>installment</th>\n",
       "      <th>grade</th>\n",
       "      <th>sub_grade</th>\n",
       "      <th>...</th>\n",
       "      <th>num_tl_90g_dpd_24m</th>\n",
       "      <th>num_tl_op_past_12m</th>\n",
       "      <th>pct_tl_nvr_dlq</th>\n",
       "      <th>percent_bc_gt_75</th>\n",
       "      <th>pub_rec_bankruptcies</th>\n",
       "      <th>tax_liens</th>\n",
       "      <th>tot_hi_cred_lim</th>\n",
       "      <th>total_bal_ex_mort</th>\n",
       "      <th>total_bc_limit</th>\n",
       "      <th>total_il_high_credit_limit</th>\n",
       "    </tr>\n",
       "  </thead>\n",
       "  <tbody>\n",
       "    <tr>\n",
       "      <th>39712</th>\n",
       "      <td>92187</td>\n",
       "      <td>92174</td>\n",
       "      <td>2500</td>\n",
       "      <td>2500</td>\n",
       "      <td>1075.0</td>\n",
       "      <td>36 months</td>\n",
       "      <td>8.07%</td>\n",
       "      <td>78.42</td>\n",
       "      <td>A</td>\n",
       "      <td>A4</td>\n",
       "      <td>...</td>\n",
       "      <td>NaN</td>\n",
       "      <td>NaN</td>\n",
       "      <td>NaN</td>\n",
       "      <td>NaN</td>\n",
       "      <td>NaN</td>\n",
       "      <td>NaN</td>\n",
       "      <td>NaN</td>\n",
       "      <td>NaN</td>\n",
       "      <td>NaN</td>\n",
       "      <td>NaN</td>\n",
       "    </tr>\n",
       "    <tr>\n",
       "      <th>39713</th>\n",
       "      <td>90665</td>\n",
       "      <td>90607</td>\n",
       "      <td>8500</td>\n",
       "      <td>8500</td>\n",
       "      <td>875.0</td>\n",
       "      <td>36 months</td>\n",
       "      <td>10.28%</td>\n",
       "      <td>275.38</td>\n",
       "      <td>C</td>\n",
       "      <td>C1</td>\n",
       "      <td>...</td>\n",
       "      <td>NaN</td>\n",
       "      <td>NaN</td>\n",
       "      <td>NaN</td>\n",
       "      <td>NaN</td>\n",
       "      <td>NaN</td>\n",
       "      <td>NaN</td>\n",
       "      <td>NaN</td>\n",
       "      <td>NaN</td>\n",
       "      <td>NaN</td>\n",
       "      <td>NaN</td>\n",
       "    </tr>\n",
       "    <tr>\n",
       "      <th>39714</th>\n",
       "      <td>90395</td>\n",
       "      <td>90390</td>\n",
       "      <td>5000</td>\n",
       "      <td>5000</td>\n",
       "      <td>1325.0</td>\n",
       "      <td>36 months</td>\n",
       "      <td>8.07%</td>\n",
       "      <td>156.84</td>\n",
       "      <td>A</td>\n",
       "      <td>A4</td>\n",
       "      <td>...</td>\n",
       "      <td>NaN</td>\n",
       "      <td>NaN</td>\n",
       "      <td>NaN</td>\n",
       "      <td>NaN</td>\n",
       "      <td>NaN</td>\n",
       "      <td>NaN</td>\n",
       "      <td>NaN</td>\n",
       "      <td>NaN</td>\n",
       "      <td>NaN</td>\n",
       "      <td>NaN</td>\n",
       "    </tr>\n",
       "    <tr>\n",
       "      <th>39715</th>\n",
       "      <td>90376</td>\n",
       "      <td>89243</td>\n",
       "      <td>5000</td>\n",
       "      <td>5000</td>\n",
       "      <td>650.0</td>\n",
       "      <td>36 months</td>\n",
       "      <td>7.43%</td>\n",
       "      <td>155.38</td>\n",
       "      <td>A</td>\n",
       "      <td>A2</td>\n",
       "      <td>...</td>\n",
       "      <td>NaN</td>\n",
       "      <td>NaN</td>\n",
       "      <td>NaN</td>\n",
       "      <td>NaN</td>\n",
       "      <td>NaN</td>\n",
       "      <td>NaN</td>\n",
       "      <td>NaN</td>\n",
       "      <td>NaN</td>\n",
       "      <td>NaN</td>\n",
       "      <td>NaN</td>\n",
       "    </tr>\n",
       "    <tr>\n",
       "      <th>39716</th>\n",
       "      <td>87023</td>\n",
       "      <td>86999</td>\n",
       "      <td>7500</td>\n",
       "      <td>7500</td>\n",
       "      <td>800.0</td>\n",
       "      <td>36 months</td>\n",
       "      <td>13.75%</td>\n",
       "      <td>255.43</td>\n",
       "      <td>E</td>\n",
       "      <td>E2</td>\n",
       "      <td>...</td>\n",
       "      <td>NaN</td>\n",
       "      <td>NaN</td>\n",
       "      <td>NaN</td>\n",
       "      <td>NaN</td>\n",
       "      <td>NaN</td>\n",
       "      <td>NaN</td>\n",
       "      <td>NaN</td>\n",
       "      <td>NaN</td>\n",
       "      <td>NaN</td>\n",
       "      <td>NaN</td>\n",
       "    </tr>\n",
       "  </tbody>\n",
       "</table>\n",
       "<p>5 rows × 111 columns</p>\n",
       "</div>"
      ]
     },
     "execution_count": 174,
     "metadata": {},
     "output_type": "execute_result"
    }
   ],
   "execution_count": 174
  },
  {
   "metadata": {
    "ExecuteTime": {
     "end_time": "2024-12-22T15:07:10.083473Z",
     "start_time": "2024-12-22T15:07:10.009531Z"
    }
   },
   "cell_type": "code",
   "source": "df.describe()",
   "id": "da1f1c4f555c75a7",
   "outputs": [
    {
     "data": {
      "text/plain": [
       "                 id     member_id     loan_amnt   funded_amnt  \\\n",
       "count  3.971700e+04  3.971700e+04  39717.000000  39717.000000   \n",
       "mean   6.831319e+05  8.504636e+05  11219.443815  10947.713196   \n",
       "std    2.106941e+05  2.656783e+05   7456.670694   7187.238670   \n",
       "min    5.473400e+04  7.069900e+04    500.000000    500.000000   \n",
       "25%    5.162210e+05  6.667800e+05   5500.000000   5400.000000   \n",
       "50%    6.656650e+05  8.508120e+05  10000.000000   9600.000000   \n",
       "75%    8.377550e+05  1.047339e+06  15000.000000  15000.000000   \n",
       "max    1.077501e+06  1.314167e+06  35000.000000  35000.000000   \n",
       "\n",
       "       funded_amnt_inv   installment    annual_inc           dti  \\\n",
       "count     39717.000000  39717.000000  3.971700e+04  39717.000000   \n",
       "mean      10397.448868    324.561922  6.896893e+04     13.315130   \n",
       "std        7128.450439    208.874874  6.379377e+04      6.678594   \n",
       "min           0.000000     15.690000  4.000000e+03      0.000000   \n",
       "25%        5000.000000    167.020000  4.040400e+04      8.170000   \n",
       "50%        8975.000000    280.220000  5.900000e+04     13.400000   \n",
       "75%       14400.000000    430.780000  8.230000e+04     18.600000   \n",
       "max       35000.000000   1305.190000  6.000000e+06     29.990000   \n",
       "\n",
       "        delinq_2yrs  inq_last_6mths  ...  num_tl_90g_dpd_24m  \\\n",
       "count  39717.000000    39717.000000  ...                 0.0   \n",
       "mean       0.146512        0.869200  ...                 NaN   \n",
       "std        0.491812        1.070219  ...                 NaN   \n",
       "min        0.000000        0.000000  ...                 NaN   \n",
       "25%        0.000000        0.000000  ...                 NaN   \n",
       "50%        0.000000        1.000000  ...                 NaN   \n",
       "75%        0.000000        1.000000  ...                 NaN   \n",
       "max       11.000000        8.000000  ...                 NaN   \n",
       "\n",
       "       num_tl_op_past_12m  pct_tl_nvr_dlq  percent_bc_gt_75  \\\n",
       "count                 0.0             0.0               0.0   \n",
       "mean                  NaN             NaN               NaN   \n",
       "std                   NaN             NaN               NaN   \n",
       "min                   NaN             NaN               NaN   \n",
       "25%                   NaN             NaN               NaN   \n",
       "50%                   NaN             NaN               NaN   \n",
       "75%                   NaN             NaN               NaN   \n",
       "max                   NaN             NaN               NaN   \n",
       "\n",
       "       pub_rec_bankruptcies  tax_liens  tot_hi_cred_lim  total_bal_ex_mort  \\\n",
       "count          39020.000000    39678.0              0.0                0.0   \n",
       "mean               0.043260        0.0              NaN                NaN   \n",
       "std                0.204324        0.0              NaN                NaN   \n",
       "min                0.000000        0.0              NaN                NaN   \n",
       "25%                0.000000        0.0              NaN                NaN   \n",
       "50%                0.000000        0.0              NaN                NaN   \n",
       "75%                0.000000        0.0              NaN                NaN   \n",
       "max                2.000000        0.0              NaN                NaN   \n",
       "\n",
       "       total_bc_limit  total_il_high_credit_limit  \n",
       "count             0.0                         0.0  \n",
       "mean              NaN                         NaN  \n",
       "std               NaN                         NaN  \n",
       "min               NaN                         NaN  \n",
       "25%               NaN                         NaN  \n",
       "50%               NaN                         NaN  \n",
       "75%               NaN                         NaN  \n",
       "max               NaN                         NaN  \n",
       "\n",
       "[8 rows x 87 columns]"
      ],
      "text/html": [
       "<div>\n",
       "<style scoped>\n",
       "    .dataframe tbody tr th:only-of-type {\n",
       "        vertical-align: middle;\n",
       "    }\n",
       "\n",
       "    .dataframe tbody tr th {\n",
       "        vertical-align: top;\n",
       "    }\n",
       "\n",
       "    .dataframe thead th {\n",
       "        text-align: right;\n",
       "    }\n",
       "</style>\n",
       "<table border=\"1\" class=\"dataframe\">\n",
       "  <thead>\n",
       "    <tr style=\"text-align: right;\">\n",
       "      <th></th>\n",
       "      <th>id</th>\n",
       "      <th>member_id</th>\n",
       "      <th>loan_amnt</th>\n",
       "      <th>funded_amnt</th>\n",
       "      <th>funded_amnt_inv</th>\n",
       "      <th>installment</th>\n",
       "      <th>annual_inc</th>\n",
       "      <th>dti</th>\n",
       "      <th>delinq_2yrs</th>\n",
       "      <th>inq_last_6mths</th>\n",
       "      <th>...</th>\n",
       "      <th>num_tl_90g_dpd_24m</th>\n",
       "      <th>num_tl_op_past_12m</th>\n",
       "      <th>pct_tl_nvr_dlq</th>\n",
       "      <th>percent_bc_gt_75</th>\n",
       "      <th>pub_rec_bankruptcies</th>\n",
       "      <th>tax_liens</th>\n",
       "      <th>tot_hi_cred_lim</th>\n",
       "      <th>total_bal_ex_mort</th>\n",
       "      <th>total_bc_limit</th>\n",
       "      <th>total_il_high_credit_limit</th>\n",
       "    </tr>\n",
       "  </thead>\n",
       "  <tbody>\n",
       "    <tr>\n",
       "      <th>count</th>\n",
       "      <td>3.971700e+04</td>\n",
       "      <td>3.971700e+04</td>\n",
       "      <td>39717.000000</td>\n",
       "      <td>39717.000000</td>\n",
       "      <td>39717.000000</td>\n",
       "      <td>39717.000000</td>\n",
       "      <td>3.971700e+04</td>\n",
       "      <td>39717.000000</td>\n",
       "      <td>39717.000000</td>\n",
       "      <td>39717.000000</td>\n",
       "      <td>...</td>\n",
       "      <td>0.0</td>\n",
       "      <td>0.0</td>\n",
       "      <td>0.0</td>\n",
       "      <td>0.0</td>\n",
       "      <td>39020.000000</td>\n",
       "      <td>39678.0</td>\n",
       "      <td>0.0</td>\n",
       "      <td>0.0</td>\n",
       "      <td>0.0</td>\n",
       "      <td>0.0</td>\n",
       "    </tr>\n",
       "    <tr>\n",
       "      <th>mean</th>\n",
       "      <td>6.831319e+05</td>\n",
       "      <td>8.504636e+05</td>\n",
       "      <td>11219.443815</td>\n",
       "      <td>10947.713196</td>\n",
       "      <td>10397.448868</td>\n",
       "      <td>324.561922</td>\n",
       "      <td>6.896893e+04</td>\n",
       "      <td>13.315130</td>\n",
       "      <td>0.146512</td>\n",
       "      <td>0.869200</td>\n",
       "      <td>...</td>\n",
       "      <td>NaN</td>\n",
       "      <td>NaN</td>\n",
       "      <td>NaN</td>\n",
       "      <td>NaN</td>\n",
       "      <td>0.043260</td>\n",
       "      <td>0.0</td>\n",
       "      <td>NaN</td>\n",
       "      <td>NaN</td>\n",
       "      <td>NaN</td>\n",
       "      <td>NaN</td>\n",
       "    </tr>\n",
       "    <tr>\n",
       "      <th>std</th>\n",
       "      <td>2.106941e+05</td>\n",
       "      <td>2.656783e+05</td>\n",
       "      <td>7456.670694</td>\n",
       "      <td>7187.238670</td>\n",
       "      <td>7128.450439</td>\n",
       "      <td>208.874874</td>\n",
       "      <td>6.379377e+04</td>\n",
       "      <td>6.678594</td>\n",
       "      <td>0.491812</td>\n",
       "      <td>1.070219</td>\n",
       "      <td>...</td>\n",
       "      <td>NaN</td>\n",
       "      <td>NaN</td>\n",
       "      <td>NaN</td>\n",
       "      <td>NaN</td>\n",
       "      <td>0.204324</td>\n",
       "      <td>0.0</td>\n",
       "      <td>NaN</td>\n",
       "      <td>NaN</td>\n",
       "      <td>NaN</td>\n",
       "      <td>NaN</td>\n",
       "    </tr>\n",
       "    <tr>\n",
       "      <th>min</th>\n",
       "      <td>5.473400e+04</td>\n",
       "      <td>7.069900e+04</td>\n",
       "      <td>500.000000</td>\n",
       "      <td>500.000000</td>\n",
       "      <td>0.000000</td>\n",
       "      <td>15.690000</td>\n",
       "      <td>4.000000e+03</td>\n",
       "      <td>0.000000</td>\n",
       "      <td>0.000000</td>\n",
       "      <td>0.000000</td>\n",
       "      <td>...</td>\n",
       "      <td>NaN</td>\n",
       "      <td>NaN</td>\n",
       "      <td>NaN</td>\n",
       "      <td>NaN</td>\n",
       "      <td>0.000000</td>\n",
       "      <td>0.0</td>\n",
       "      <td>NaN</td>\n",
       "      <td>NaN</td>\n",
       "      <td>NaN</td>\n",
       "      <td>NaN</td>\n",
       "    </tr>\n",
       "    <tr>\n",
       "      <th>25%</th>\n",
       "      <td>5.162210e+05</td>\n",
       "      <td>6.667800e+05</td>\n",
       "      <td>5500.000000</td>\n",
       "      <td>5400.000000</td>\n",
       "      <td>5000.000000</td>\n",
       "      <td>167.020000</td>\n",
       "      <td>4.040400e+04</td>\n",
       "      <td>8.170000</td>\n",
       "      <td>0.000000</td>\n",
       "      <td>0.000000</td>\n",
       "      <td>...</td>\n",
       "      <td>NaN</td>\n",
       "      <td>NaN</td>\n",
       "      <td>NaN</td>\n",
       "      <td>NaN</td>\n",
       "      <td>0.000000</td>\n",
       "      <td>0.0</td>\n",
       "      <td>NaN</td>\n",
       "      <td>NaN</td>\n",
       "      <td>NaN</td>\n",
       "      <td>NaN</td>\n",
       "    </tr>\n",
       "    <tr>\n",
       "      <th>50%</th>\n",
       "      <td>6.656650e+05</td>\n",
       "      <td>8.508120e+05</td>\n",
       "      <td>10000.000000</td>\n",
       "      <td>9600.000000</td>\n",
       "      <td>8975.000000</td>\n",
       "      <td>280.220000</td>\n",
       "      <td>5.900000e+04</td>\n",
       "      <td>13.400000</td>\n",
       "      <td>0.000000</td>\n",
       "      <td>1.000000</td>\n",
       "      <td>...</td>\n",
       "      <td>NaN</td>\n",
       "      <td>NaN</td>\n",
       "      <td>NaN</td>\n",
       "      <td>NaN</td>\n",
       "      <td>0.000000</td>\n",
       "      <td>0.0</td>\n",
       "      <td>NaN</td>\n",
       "      <td>NaN</td>\n",
       "      <td>NaN</td>\n",
       "      <td>NaN</td>\n",
       "    </tr>\n",
       "    <tr>\n",
       "      <th>75%</th>\n",
       "      <td>8.377550e+05</td>\n",
       "      <td>1.047339e+06</td>\n",
       "      <td>15000.000000</td>\n",
       "      <td>15000.000000</td>\n",
       "      <td>14400.000000</td>\n",
       "      <td>430.780000</td>\n",
       "      <td>8.230000e+04</td>\n",
       "      <td>18.600000</td>\n",
       "      <td>0.000000</td>\n",
       "      <td>1.000000</td>\n",
       "      <td>...</td>\n",
       "      <td>NaN</td>\n",
       "      <td>NaN</td>\n",
       "      <td>NaN</td>\n",
       "      <td>NaN</td>\n",
       "      <td>0.000000</td>\n",
       "      <td>0.0</td>\n",
       "      <td>NaN</td>\n",
       "      <td>NaN</td>\n",
       "      <td>NaN</td>\n",
       "      <td>NaN</td>\n",
       "    </tr>\n",
       "    <tr>\n",
       "      <th>max</th>\n",
       "      <td>1.077501e+06</td>\n",
       "      <td>1.314167e+06</td>\n",
       "      <td>35000.000000</td>\n",
       "      <td>35000.000000</td>\n",
       "      <td>35000.000000</td>\n",
       "      <td>1305.190000</td>\n",
       "      <td>6.000000e+06</td>\n",
       "      <td>29.990000</td>\n",
       "      <td>11.000000</td>\n",
       "      <td>8.000000</td>\n",
       "      <td>...</td>\n",
       "      <td>NaN</td>\n",
       "      <td>NaN</td>\n",
       "      <td>NaN</td>\n",
       "      <td>NaN</td>\n",
       "      <td>2.000000</td>\n",
       "      <td>0.0</td>\n",
       "      <td>NaN</td>\n",
       "      <td>NaN</td>\n",
       "      <td>NaN</td>\n",
       "      <td>NaN</td>\n",
       "    </tr>\n",
       "  </tbody>\n",
       "</table>\n",
       "<p>8 rows × 87 columns</p>\n",
       "</div>"
      ]
     },
     "execution_count": 175,
     "metadata": {},
     "output_type": "execute_result"
    }
   ],
   "execution_count": 175
  },
  {
   "metadata": {
    "ExecuteTime": {
     "end_time": "2024-12-22T15:07:12.742781Z",
     "start_time": "2024-12-22T15:07:12.740543Z"
    }
   },
   "cell_type": "code",
   "source": "df.shape",
   "id": "bdb7d087a087cbb2",
   "outputs": [
    {
     "data": {
      "text/plain": [
       "(39717, 111)"
      ]
     },
     "execution_count": 176,
     "metadata": {},
     "output_type": "execute_result"
    }
   ],
   "execution_count": 176
  },
  {
   "metadata": {},
   "cell_type": "markdown",
   "source": "### Checking if there are any Null or NA values",
   "id": "c03f7343654d89ac"
  },
  {
   "metadata": {
    "ExecuteTime": {
     "end_time": "2024-12-22T15:07:20.769486Z",
     "start_time": "2024-12-22T15:07:20.745487Z"
    }
   },
   "cell_type": "code",
   "source": "df.isnull().sum().sort_values(ascending=False)",
   "id": "98756df6a6a15b22",
   "outputs": [
    {
     "data": {
      "text/plain": [
       "verification_status_joint    39717\n",
       "annual_inc_joint             39717\n",
       "mo_sin_old_rev_tl_op         39717\n",
       "mo_sin_old_il_acct           39717\n",
       "bc_util                      39717\n",
       "                             ...  \n",
       "delinq_amnt                      0\n",
       "policy_code                      0\n",
       "earliest_cr_line                 0\n",
       "delinq_2yrs                      0\n",
       "id                               0\n",
       "Length: 111, dtype: int64"
      ]
     },
     "execution_count": 178,
     "metadata": {},
     "output_type": "execute_result"
    }
   ],
   "execution_count": 178
  },
  {
   "metadata": {},
   "cell_type": "markdown",
   "source": " There are lot of columns where the missing values are 39717",
   "id": "934b174e1b54b801"
  },
  {
   "metadata": {},
   "cell_type": "markdown",
   "source": "Dropping all the columns because values are missing and these are irrelevant for any analysis",
   "id": "f04d36e2e58f4d9d"
  },
  {
   "metadata": {
    "ExecuteTime": {
     "end_time": "2024-12-22T12:53:30.176145Z",
     "start_time": "2024-12-22T12:53:30.166829Z"
    }
   },
   "cell_type": "code",
   "source": [
    "'''###drop_columns = [\n",
    "    'verification_status_joint', 'annual_inc_joint', 'mo_sin_old_rev_tl_op', 'mo_sin_old_il_acct',\n",
    "    'bc_util', 'bc_open_to_buy', 'avg_cur_bal', 'acc_open_past_24mths', 'inq_last_12m',\n",
    "    'total_cu_tl', 'inq_fi', 'total_rev_hi_lim', 'all_util', 'max_bal_bc', 'open_rv_24m',\n",
    "    'open_rv_12m', 'il_util', 'total_bal_il', 'mths_since_rcnt_il', 'open_il_24m', 'open_il_12m',\n",
    "    'open_il_6m', 'open_acc_6m', 'tot_cur_bal', 'tot_coll_amt', 'mo_sin_rcnt_rev_tl_op',\n",
    "    'mo_sin_rcnt_tl', 'mort_acc', 'num_rev_tl_bal_gt_0', 'total_bc_limit', 'total_bal_ex_mort',\n",
    "    'tot_hi_cred_lim', 'percent_bc_gt_75', 'pct_tl_nvr_dlq', 'num_tl_op_past_12m',\n",
    "    'num_tl_90g_dpd_24m', 'num_tl_30dpd', 'num_tl_120dpd_2m', 'num_sats', 'num_rev_accts',\n",
    "    'mths_since_recent_bc', 'num_op_rev_tl', 'num_il_tl', 'num_bc_tl', 'num_bc_sats',\n",
    "    'num_actv_rev_tl', 'num_actv_bc_tl', 'num_accts_ever_120_pd', 'mths_since_recent_revol_delinq',\n",
    "    'mths_since_recent_inq', 'mths_since_recent_bc_dlq', 'dti_joint', 'total_il_high_credit_limit',\n",
    "    'mths_since_last_major_derog'\n",
    "]'''\n",
    "\n",
    "###df.drop(columns=drop_columns, axis=1, inplace=True)"
   ],
   "id": "8280ae12e2d72202",
   "outputs": [],
   "execution_count": 48
  },
  {
   "metadata": {
    "ExecuteTime": {
     "end_time": "2024-12-22T15:07:33.611022Z",
     "start_time": "2024-12-22T15:07:33.585671Z"
    }
   },
   "cell_type": "code",
   "source": "df.isnull().sum().sort_values(ascending=False)\n",
   "id": "cec477b95874a0aa",
   "outputs": [
    {
     "data": {
      "text/plain": [
       "verification_status_joint    39717\n",
       "annual_inc_joint             39717\n",
       "mo_sin_old_rev_tl_op         39717\n",
       "mo_sin_old_il_acct           39717\n",
       "bc_util                      39717\n",
       "                             ...  \n",
       "delinq_amnt                      0\n",
       "policy_code                      0\n",
       "earliest_cr_line                 0\n",
       "delinq_2yrs                      0\n",
       "id                               0\n",
       "Length: 111, dtype: int64"
      ]
     },
     "execution_count": 180,
     "metadata": {},
     "output_type": "execute_result"
    }
   ],
   "execution_count": 180
  },
  {
   "metadata": {
    "ExecuteTime": {
     "end_time": "2024-12-22T15:07:36.456474Z",
     "start_time": "2024-12-22T15:07:36.432095Z"
    }
   },
   "cell_type": "code",
   "source": [
    "missing_perc = df.isna().sum() / len(df) * 100\n",
    "\n",
    "# Filter the column names where missing values > 40%\n",
    "columns_with_high_missing = missing_perc[missing_perc > 40].index.tolist()\n",
    "\n",
    "# Display the result\n",
    "print(\"Columns with more than 40% missing values:\")\n",
    "print(columns_with_high_missing)\n"
   ],
   "id": "7b7b40f1c536f67a",
   "outputs": [
    {
     "name": "stdout",
     "output_type": "stream",
     "text": [
      "Columns with more than 40% missing values:\n",
      "['mths_since_last_delinq', 'mths_since_last_record', 'next_pymnt_d', 'mths_since_last_major_derog', 'annual_inc_joint', 'dti_joint', 'verification_status_joint', 'tot_coll_amt', 'tot_cur_bal', 'open_acc_6m', 'open_il_6m', 'open_il_12m', 'open_il_24m', 'mths_since_rcnt_il', 'total_bal_il', 'il_util', 'open_rv_12m', 'open_rv_24m', 'max_bal_bc', 'all_util', 'total_rev_hi_lim', 'inq_fi', 'total_cu_tl', 'inq_last_12m', 'acc_open_past_24mths', 'avg_cur_bal', 'bc_open_to_buy', 'bc_util', 'mo_sin_old_il_acct', 'mo_sin_old_rev_tl_op', 'mo_sin_rcnt_rev_tl_op', 'mo_sin_rcnt_tl', 'mort_acc', 'mths_since_recent_bc', 'mths_since_recent_bc_dlq', 'mths_since_recent_inq', 'mths_since_recent_revol_delinq', 'num_accts_ever_120_pd', 'num_actv_bc_tl', 'num_actv_rev_tl', 'num_bc_sats', 'num_bc_tl', 'num_il_tl', 'num_op_rev_tl', 'num_rev_accts', 'num_rev_tl_bal_gt_0', 'num_sats', 'num_tl_120dpd_2m', 'num_tl_30dpd', 'num_tl_90g_dpd_24m', 'num_tl_op_past_12m', 'pct_tl_nvr_dlq', 'percent_bc_gt_75', 'tot_hi_cred_lim', 'total_bal_ex_mort', 'total_bc_limit', 'total_il_high_credit_limit']\n"
     ]
    }
   ],
   "execution_count": 181
  },
  {
   "metadata": {
    "ExecuteTime": {
     "end_time": "2024-12-22T15:07:38.452843Z",
     "start_time": "2024-12-22T15:07:38.444319Z"
    }
   },
   "cell_type": "code",
   "source": "df.drop(columns=columns_with_high_missing, axis=1, inplace=True)",
   "id": "52dd07627e0cfa07",
   "outputs": [],
   "execution_count": 182
  },
  {
   "metadata": {
    "ExecuteTime": {
     "end_time": "2024-12-22T15:07:39.431379Z",
     "start_time": "2024-12-22T15:07:39.404880Z"
    }
   },
   "cell_type": "code",
   "source": "df.info()",
   "id": "ad33d0bbc231192a",
   "outputs": [
    {
     "name": "stdout",
     "output_type": "stream",
     "text": [
      "<class 'pandas.core.frame.DataFrame'>\n",
      "RangeIndex: 39717 entries, 0 to 39716\n",
      "Data columns (total 54 columns):\n",
      " #   Column                      Non-Null Count  Dtype  \n",
      "---  ------                      --------------  -----  \n",
      " 0   id                          39717 non-null  int64  \n",
      " 1   member_id                   39717 non-null  int64  \n",
      " 2   loan_amnt                   39717 non-null  int64  \n",
      " 3   funded_amnt                 39717 non-null  int64  \n",
      " 4   funded_amnt_inv             39717 non-null  float64\n",
      " 5   term                        39717 non-null  object \n",
      " 6   int_rate                    39717 non-null  object \n",
      " 7   installment                 39717 non-null  float64\n",
      " 8   grade                       39717 non-null  object \n",
      " 9   sub_grade                   39717 non-null  object \n",
      " 10  emp_title                   37258 non-null  object \n",
      " 11  emp_length                  38642 non-null  object \n",
      " 12  home_ownership              39717 non-null  object \n",
      " 13  annual_inc                  39717 non-null  float64\n",
      " 14  verification_status         39717 non-null  object \n",
      " 15  issue_d                     39717 non-null  object \n",
      " 16  loan_status                 39717 non-null  object \n",
      " 17  pymnt_plan                  39717 non-null  object \n",
      " 18  url                         39717 non-null  object \n",
      " 19  desc                        26775 non-null  object \n",
      " 20  purpose                     39717 non-null  object \n",
      " 21  title                       39706 non-null  object \n",
      " 22  zip_code                    39717 non-null  object \n",
      " 23  addr_state                  39717 non-null  object \n",
      " 24  dti                         39717 non-null  float64\n",
      " 25  delinq_2yrs                 39717 non-null  int64  \n",
      " 26  earliest_cr_line            39717 non-null  object \n",
      " 27  inq_last_6mths              39717 non-null  int64  \n",
      " 28  open_acc                    39717 non-null  int64  \n",
      " 29  pub_rec                     39717 non-null  int64  \n",
      " 30  revol_bal                   39717 non-null  int64  \n",
      " 31  revol_util                  39667 non-null  object \n",
      " 32  total_acc                   39717 non-null  int64  \n",
      " 33  initial_list_status         39717 non-null  object \n",
      " 34  out_prncp                   39717 non-null  float64\n",
      " 35  out_prncp_inv               39717 non-null  float64\n",
      " 36  total_pymnt                 39717 non-null  float64\n",
      " 37  total_pymnt_inv             39717 non-null  float64\n",
      " 38  total_rec_prncp             39717 non-null  float64\n",
      " 39  total_rec_int               39717 non-null  float64\n",
      " 40  total_rec_late_fee          39717 non-null  float64\n",
      " 41  recoveries                  39717 non-null  float64\n",
      " 42  collection_recovery_fee     39717 non-null  float64\n",
      " 43  last_pymnt_d                39646 non-null  object \n",
      " 44  last_pymnt_amnt             39717 non-null  float64\n",
      " 45  last_credit_pull_d          39715 non-null  object \n",
      " 46  collections_12_mths_ex_med  39661 non-null  float64\n",
      " 47  policy_code                 39717 non-null  int64  \n",
      " 48  application_type            39717 non-null  object \n",
      " 49  acc_now_delinq              39717 non-null  int64  \n",
      " 50  chargeoff_within_12_mths    39661 non-null  float64\n",
      " 51  delinq_amnt                 39717 non-null  int64  \n",
      " 52  pub_rec_bankruptcies        39020 non-null  float64\n",
      " 53  tax_liens                   39678 non-null  float64\n",
      "dtypes: float64(18), int64(13), object(23)\n",
      "memory usage: 16.4+ MB\n"
     ]
    }
   ],
   "execution_count": 183
  },
  {
   "metadata": {
    "ExecuteTime": {
     "end_time": "2024-12-22T15:07:40.844977Z",
     "start_time": "2024-12-22T15:07:40.841484Z"
    }
   },
   "cell_type": "code",
   "source": "df.columns",
   "id": "3258ac41d1cceef2",
   "outputs": [
    {
     "data": {
      "text/plain": [
       "Index(['id', 'member_id', 'loan_amnt', 'funded_amnt', 'funded_amnt_inv',\n",
       "       'term', 'int_rate', 'installment', 'grade', 'sub_grade', 'emp_title',\n",
       "       'emp_length', 'home_ownership', 'annual_inc', 'verification_status',\n",
       "       'issue_d', 'loan_status', 'pymnt_plan', 'url', 'desc', 'purpose',\n",
       "       'title', 'zip_code', 'addr_state', 'dti', 'delinq_2yrs',\n",
       "       'earliest_cr_line', 'inq_last_6mths', 'open_acc', 'pub_rec',\n",
       "       'revol_bal', 'revol_util', 'total_acc', 'initial_list_status',\n",
       "       'out_prncp', 'out_prncp_inv', 'total_pymnt', 'total_pymnt_inv',\n",
       "       'total_rec_prncp', 'total_rec_int', 'total_rec_late_fee', 'recoveries',\n",
       "       'collection_recovery_fee', 'last_pymnt_d', 'last_pymnt_amnt',\n",
       "       'last_credit_pull_d', 'collections_12_mths_ex_med', 'policy_code',\n",
       "       'application_type', 'acc_now_delinq', 'chargeoff_within_12_mths',\n",
       "       'delinq_amnt', 'pub_rec_bankruptcies', 'tax_liens'],\n",
       "      dtype='object')"
      ]
     },
     "execution_count": 184,
     "metadata": {},
     "output_type": "execute_result"
    }
   ],
   "execution_count": 184
  },
  {
   "metadata": {
    "ExecuteTime": {
     "end_time": "2024-12-22T15:07:42.489543Z",
     "start_time": "2024-12-22T15:07:42.481448Z"
    }
   },
   "cell_type": "code",
   "source": [
    "\n",
    "### These columns are either not required for analysis or duplicate because similar value can be derived from a different column\n",
    "\n",
    "extra_columns_to_be_deleted = ['member_id','url', 'collection_recovery_fee','desc', 'last_credit_pull_d', 'collections_12_mths_ex_med', 'title', 'emp_title', 'zip_code', 'earliest_cr_line', 'inq_last_6mths', 'open_acc', 'pub_rec_bankruptcies',  'revol_bal', 'revol_util', 'initial_list_status', 'out_prncp', 'out_prncp_inv', 'total_pymnt', 'total_pymnt_inv','total_rec_prncp', 'total_rec_int', 'total_rec_late_fee', 'recoveries', 'last_pymnt_d', 'last_pymnt_amnt',  'last_credit_pull_d', 'collections_12_mths_ex_med','tax_liens']\n",
    "\n",
    "df.drop(columns=extra_columns_to_be_deleted, axis=1, inplace=True)\n",
    "\n"
   ],
   "id": "32225040847f8270",
   "outputs": [],
   "execution_count": 185
  },
  {
   "metadata": {
    "ExecuteTime": {
     "end_time": "2024-12-22T15:07:43.413285Z",
     "start_time": "2024-12-22T15:07:43.395975Z"
    }
   },
   "cell_type": "code",
   "source": "df.info()",
   "id": "b59475565db23180",
   "outputs": [
    {
     "name": "stdout",
     "output_type": "stream",
     "text": [
      "<class 'pandas.core.frame.DataFrame'>\n",
      "RangeIndex: 39717 entries, 0 to 39716\n",
      "Data columns (total 27 columns):\n",
      " #   Column                    Non-Null Count  Dtype  \n",
      "---  ------                    --------------  -----  \n",
      " 0   id                        39717 non-null  int64  \n",
      " 1   loan_amnt                 39717 non-null  int64  \n",
      " 2   funded_amnt               39717 non-null  int64  \n",
      " 3   funded_amnt_inv           39717 non-null  float64\n",
      " 4   term                      39717 non-null  object \n",
      " 5   int_rate                  39717 non-null  object \n",
      " 6   installment               39717 non-null  float64\n",
      " 7   grade                     39717 non-null  object \n",
      " 8   sub_grade                 39717 non-null  object \n",
      " 9   emp_length                38642 non-null  object \n",
      " 10  home_ownership            39717 non-null  object \n",
      " 11  annual_inc                39717 non-null  float64\n",
      " 12  verification_status       39717 non-null  object \n",
      " 13  issue_d                   39717 non-null  object \n",
      " 14  loan_status               39717 non-null  object \n",
      " 15  pymnt_plan                39717 non-null  object \n",
      " 16  purpose                   39717 non-null  object \n",
      " 17  addr_state                39717 non-null  object \n",
      " 18  dti                       39717 non-null  float64\n",
      " 19  delinq_2yrs               39717 non-null  int64  \n",
      " 20  pub_rec                   39717 non-null  int64  \n",
      " 21  total_acc                 39717 non-null  int64  \n",
      " 22  policy_code               39717 non-null  int64  \n",
      " 23  application_type          39717 non-null  object \n",
      " 24  acc_now_delinq            39717 non-null  int64  \n",
      " 25  chargeoff_within_12_mths  39661 non-null  float64\n",
      " 26  delinq_amnt               39717 non-null  int64  \n",
      "dtypes: float64(5), int64(9), object(13)\n",
      "memory usage: 8.2+ MB\n"
     ]
    }
   ],
   "execution_count": 186
  },
  {
   "metadata": {
    "ExecuteTime": {
     "end_time": "2024-12-22T15:07:44.517550Z",
     "start_time": "2024-12-22T15:07:44.502278Z"
    }
   },
   "cell_type": "code",
   "source": "df.isna().sum()",
   "id": "b3c6889482aec9f0",
   "outputs": [
    {
     "data": {
      "text/plain": [
       "id                             0\n",
       "loan_amnt                      0\n",
       "funded_amnt                    0\n",
       "funded_amnt_inv                0\n",
       "term                           0\n",
       "int_rate                       0\n",
       "installment                    0\n",
       "grade                          0\n",
       "sub_grade                      0\n",
       "emp_length                  1075\n",
       "home_ownership                 0\n",
       "annual_inc                     0\n",
       "verification_status            0\n",
       "issue_d                        0\n",
       "loan_status                    0\n",
       "pymnt_plan                     0\n",
       "purpose                        0\n",
       "addr_state                     0\n",
       "dti                            0\n",
       "delinq_2yrs                    0\n",
       "pub_rec                        0\n",
       "total_acc                      0\n",
       "policy_code                    0\n",
       "application_type               0\n",
       "acc_now_delinq                 0\n",
       "chargeoff_within_12_mths      56\n",
       "delinq_amnt                    0\n",
       "dtype: int64"
      ]
     },
     "execution_count": 187,
     "metadata": {},
     "output_type": "execute_result"
    }
   ],
   "execution_count": 187
  },
  {
   "metadata": {
    "ExecuteTime": {
     "end_time": "2024-12-22T15:07:45.519124Z",
     "start_time": "2024-12-22T15:07:45.515689Z"
    }
   },
   "cell_type": "code",
   "source": "df['emp_length']",
   "id": "dadc1c6b7bec71bd",
   "outputs": [
    {
     "data": {
      "text/plain": [
       "0        10+ years\n",
       "1         < 1 year\n",
       "2        10+ years\n",
       "3        10+ years\n",
       "4           1 year\n",
       "           ...    \n",
       "39712      4 years\n",
       "39713      3 years\n",
       "39714     < 1 year\n",
       "39715     < 1 year\n",
       "39716     < 1 year\n",
       "Name: emp_length, Length: 39717, dtype: object"
      ]
     },
     "execution_count": 188,
     "metadata": {},
     "output_type": "execute_result"
    }
   ],
   "execution_count": 188
  },
  {
   "metadata": {
    "ExecuteTime": {
     "end_time": "2024-12-22T15:07:52.123384Z",
     "start_time": "2024-12-22T15:07:52.120753Z"
    }
   },
   "cell_type": "code",
   "source": [
    "test_length = len(df['emp_length'])\n",
    "test_length"
   ],
   "id": "519e2d19469b6e46",
   "outputs": [
    {
     "data": {
      "text/plain": [
       "39717"
      ]
     },
     "execution_count": 189,
     "metadata": {},
     "output_type": "execute_result"
    }
   ],
   "execution_count": 189
  },
  {
   "metadata": {
    "ExecuteTime": {
     "end_time": "2024-12-22T15:07:53.242435Z",
     "start_time": "2024-12-22T15:07:53.233319Z"
    }
   },
   "cell_type": "code",
   "source": "df1 = df.dropna(subset='emp_length')",
   "id": "3b6c54ea218a06c8",
   "outputs": [],
   "execution_count": 190
  },
  {
   "metadata": {
    "ExecuteTime": {
     "end_time": "2024-12-22T15:07:54.816976Z",
     "start_time": "2024-12-22T15:07:54.802558Z"
    }
   },
   "cell_type": "code",
   "source": "df1.isna().sum()\n",
   "id": "bc845e71638e48db",
   "outputs": [
    {
     "data": {
      "text/plain": [
       "id                           0\n",
       "loan_amnt                    0\n",
       "funded_amnt                  0\n",
       "funded_amnt_inv              0\n",
       "term                         0\n",
       "int_rate                     0\n",
       "installment                  0\n",
       "grade                        0\n",
       "sub_grade                    0\n",
       "emp_length                   0\n",
       "home_ownership               0\n",
       "annual_inc                   0\n",
       "verification_status          0\n",
       "issue_d                      0\n",
       "loan_status                  0\n",
       "pymnt_plan                   0\n",
       "purpose                      0\n",
       "addr_state                   0\n",
       "dti                          0\n",
       "delinq_2yrs                  0\n",
       "pub_rec                      0\n",
       "total_acc                    0\n",
       "policy_code                  0\n",
       "application_type             0\n",
       "acc_now_delinq               0\n",
       "chargeoff_within_12_mths    56\n",
       "delinq_amnt                  0\n",
       "dtype: int64"
      ]
     },
     "execution_count": 191,
     "metadata": {},
     "output_type": "execute_result"
    }
   ],
   "execution_count": 191
  },
  {
   "metadata": {
    "ExecuteTime": {
     "end_time": "2024-12-22T15:07:55.702757Z",
     "start_time": "2024-12-22T15:07:55.688594Z"
    }
   },
   "cell_type": "code",
   "source": "df1.isna().sum()",
   "id": "2e35497747d02d2b",
   "outputs": [
    {
     "data": {
      "text/plain": [
       "id                           0\n",
       "loan_amnt                    0\n",
       "funded_amnt                  0\n",
       "funded_amnt_inv              0\n",
       "term                         0\n",
       "int_rate                     0\n",
       "installment                  0\n",
       "grade                        0\n",
       "sub_grade                    0\n",
       "emp_length                   0\n",
       "home_ownership               0\n",
       "annual_inc                   0\n",
       "verification_status          0\n",
       "issue_d                      0\n",
       "loan_status                  0\n",
       "pymnt_plan                   0\n",
       "purpose                      0\n",
       "addr_state                   0\n",
       "dti                          0\n",
       "delinq_2yrs                  0\n",
       "pub_rec                      0\n",
       "total_acc                    0\n",
       "policy_code                  0\n",
       "application_type             0\n",
       "acc_now_delinq               0\n",
       "chargeoff_within_12_mths    56\n",
       "delinq_amnt                  0\n",
       "dtype: int64"
      ]
     },
     "execution_count": 192,
     "metadata": {},
     "output_type": "execute_result"
    }
   ],
   "execution_count": 192
  },
  {
   "metadata": {
    "ExecuteTime": {
     "end_time": "2024-12-22T15:07:58.211547Z",
     "start_time": "2024-12-22T15:07:58.198718Z"
    }
   },
   "cell_type": "code",
   "source": [
    "### method to clean up the employee length values\n",
    "\n",
    "def refactor_emp_length(emp_length):\n",
    "\n",
    "    if emp_length == '< 1 year':\n",
    "        return 0\n",
    "    elif emp_length == '10+ years':\n",
    "        return 10\n",
    "    else:\n",
    "        return int(emp_length.split()[0])\n",
    "\n",
    "df1['emp_length'] = df1['emp_length'].apply(refactor_emp_length)"
   ],
   "id": "a30b07a3388b4905",
   "outputs": [],
   "execution_count": 193
  },
  {
   "metadata": {
    "ExecuteTime": {
     "end_time": "2024-12-22T15:07:59.832614Z",
     "start_time": "2024-12-22T15:07:59.829495Z"
    }
   },
   "cell_type": "code",
   "source": "df1['emp_length']",
   "id": "d2af2fa83716e3",
   "outputs": [
    {
     "data": {
      "text/plain": [
       "0        10\n",
       "1         0\n",
       "2        10\n",
       "3        10\n",
       "4         1\n",
       "         ..\n",
       "39712     4\n",
       "39713     3\n",
       "39714     0\n",
       "39715     0\n",
       "39716     0\n",
       "Name: emp_length, Length: 38642, dtype: int64"
      ]
     },
     "execution_count": 194,
     "metadata": {},
     "output_type": "execute_result"
    }
   ],
   "execution_count": 194
  },
  {
   "metadata": {
    "ExecuteTime": {
     "end_time": "2024-12-22T15:08:02.011275Z",
     "start_time": "2024-12-22T15:08:02.008522Z"
    }
   },
   "cell_type": "code",
   "source": "df1['chargeoff_within_12_mths']",
   "id": "bade7f3007b9148",
   "outputs": [
    {
     "data": {
      "text/plain": [
       "0        0.0\n",
       "1        0.0\n",
       "2        0.0\n",
       "3        0.0\n",
       "4        0.0\n",
       "        ... \n",
       "39712    NaN\n",
       "39713    NaN\n",
       "39714    NaN\n",
       "39715    NaN\n",
       "39716    NaN\n",
       "Name: chargeoff_within_12_mths, Length: 38642, dtype: float64"
      ]
     },
     "execution_count": 195,
     "metadata": {},
     "output_type": "execute_result"
    }
   ],
   "execution_count": 195
  },
  {
   "metadata": {
    "ExecuteTime": {
     "end_time": "2024-12-22T15:08:03.998463Z",
     "start_time": "2024-12-22T15:08:03.992330Z"
    }
   },
   "cell_type": "code",
   "source": [
    "extra_column = ['chargeoff_within_12_mths']\n",
    "df1.drop(columns=extra_column, axis=1, inplace=True)"
   ],
   "id": "c08a31a1a5bf26fa",
   "outputs": [],
   "execution_count": 196
  },
  {
   "metadata": {
    "ExecuteTime": {
     "end_time": "2024-12-22T15:08:05.369330Z",
     "start_time": "2024-12-22T15:08:05.366710Z"
    }
   },
   "cell_type": "code",
   "source": "df1.columns",
   "id": "711553d44e5a4c88",
   "outputs": [
    {
     "data": {
      "text/plain": [
       "Index(['id', 'loan_amnt', 'funded_amnt', 'funded_amnt_inv', 'term', 'int_rate',\n",
       "       'installment', 'grade', 'sub_grade', 'emp_length', 'home_ownership',\n",
       "       'annual_inc', 'verification_status', 'issue_d', 'loan_status',\n",
       "       'pymnt_plan', 'purpose', 'addr_state', 'dti', 'delinq_2yrs', 'pub_rec',\n",
       "       'total_acc', 'policy_code', 'application_type', 'acc_now_delinq',\n",
       "       'delinq_amnt'],\n",
       "      dtype='object')"
      ]
     },
     "execution_count": 197,
     "metadata": {},
     "output_type": "execute_result"
    }
   ],
   "execution_count": 197
  },
  {
   "metadata": {
    "ExecuteTime": {
     "end_time": "2024-12-22T15:08:06.431072Z",
     "start_time": "2024-12-22T15:08:06.417330Z"
    }
   },
   "cell_type": "code",
   "source": "df1.isna().sum()",
   "id": "3c8a78b0943aadca",
   "outputs": [
    {
     "data": {
      "text/plain": [
       "id                     0\n",
       "loan_amnt              0\n",
       "funded_amnt            0\n",
       "funded_amnt_inv        0\n",
       "term                   0\n",
       "int_rate               0\n",
       "installment            0\n",
       "grade                  0\n",
       "sub_grade              0\n",
       "emp_length             0\n",
       "home_ownership         0\n",
       "annual_inc             0\n",
       "verification_status    0\n",
       "issue_d                0\n",
       "loan_status            0\n",
       "pymnt_plan             0\n",
       "purpose                0\n",
       "addr_state             0\n",
       "dti                    0\n",
       "delinq_2yrs            0\n",
       "pub_rec                0\n",
       "total_acc              0\n",
       "policy_code            0\n",
       "application_type       0\n",
       "acc_now_delinq         0\n",
       "delinq_amnt            0\n",
       "dtype: int64"
      ]
     },
     "execution_count": 198,
     "metadata": {},
     "output_type": "execute_result"
    }
   ],
   "execution_count": 198
  },
  {
   "metadata": {
    "ExecuteTime": {
     "end_time": "2024-12-22T15:08:07.514141Z",
     "start_time": "2024-12-22T15:08:07.497891Z"
    }
   },
   "cell_type": "code",
   "source": "df1.info()",
   "id": "4e16957ca728b89c",
   "outputs": [
    {
     "name": "stdout",
     "output_type": "stream",
     "text": [
      "<class 'pandas.core.frame.DataFrame'>\n",
      "Index: 38642 entries, 0 to 39716\n",
      "Data columns (total 26 columns):\n",
      " #   Column               Non-Null Count  Dtype  \n",
      "---  ------               --------------  -----  \n",
      " 0   id                   38642 non-null  int64  \n",
      " 1   loan_amnt            38642 non-null  int64  \n",
      " 2   funded_amnt          38642 non-null  int64  \n",
      " 3   funded_amnt_inv      38642 non-null  float64\n",
      " 4   term                 38642 non-null  object \n",
      " 5   int_rate             38642 non-null  object \n",
      " 6   installment          38642 non-null  float64\n",
      " 7   grade                38642 non-null  object \n",
      " 8   sub_grade            38642 non-null  object \n",
      " 9   emp_length           38642 non-null  int64  \n",
      " 10  home_ownership       38642 non-null  object \n",
      " 11  annual_inc           38642 non-null  float64\n",
      " 12  verification_status  38642 non-null  object \n",
      " 13  issue_d              38642 non-null  object \n",
      " 14  loan_status          38642 non-null  object \n",
      " 15  pymnt_plan           38642 non-null  object \n",
      " 16  purpose              38642 non-null  object \n",
      " 17  addr_state           38642 non-null  object \n",
      " 18  dti                  38642 non-null  float64\n",
      " 19  delinq_2yrs          38642 non-null  int64  \n",
      " 20  pub_rec              38642 non-null  int64  \n",
      " 21  total_acc            38642 non-null  int64  \n",
      " 22  policy_code          38642 non-null  int64  \n",
      " 23  application_type     38642 non-null  object \n",
      " 24  acc_now_delinq       38642 non-null  int64  \n",
      " 25  delinq_amnt          38642 non-null  int64  \n",
      "dtypes: float64(4), int64(10), object(12)\n",
      "memory usage: 8.0+ MB\n"
     ]
    }
   ],
   "execution_count": 199
  },
  {
   "metadata": {
    "ExecuteTime": {
     "end_time": "2024-12-22T15:08:08.721005Z",
     "start_time": "2024-12-22T15:08:08.717795Z"
    }
   },
   "cell_type": "code",
   "source": "df1['term']",
   "id": "90e2da3046f7df40",
   "outputs": [
    {
     "data": {
      "text/plain": [
       "0         36 months\n",
       "1         60 months\n",
       "2         36 months\n",
       "3         36 months\n",
       "4         60 months\n",
       "            ...    \n",
       "39712     36 months\n",
       "39713     36 months\n",
       "39714     36 months\n",
       "39715     36 months\n",
       "39716     36 months\n",
       "Name: term, Length: 38642, dtype: object"
      ]
     },
     "execution_count": 200,
     "metadata": {},
     "output_type": "execute_result"
    }
   ],
   "execution_count": 200
  },
  {
   "metadata": {
    "ExecuteTime": {
     "end_time": "2024-12-22T15:08:10.260167Z",
     "start_time": "2024-12-22T15:08:10.237713Z"
    }
   },
   "cell_type": "code",
   "source": [
    "### term colums is of type Object. We are extracting only the int value\n",
    "df1['term'] = df1['term'].str.extract('(\\d+)').astype(int)"
   ],
   "id": "9b661ca758cd9842",
   "outputs": [],
   "execution_count": 201
  },
  {
   "metadata": {
    "ExecuteTime": {
     "end_time": "2024-12-22T15:08:11.571290Z",
     "start_time": "2024-12-22T15:08:11.568313Z"
    }
   },
   "cell_type": "code",
   "source": "df1['term']",
   "id": "dc2a5d9abc31e3cc",
   "outputs": [
    {
     "data": {
      "text/plain": [
       "0        36\n",
       "1        60\n",
       "2        36\n",
       "3        36\n",
       "4        60\n",
       "         ..\n",
       "39712    36\n",
       "39713    36\n",
       "39714    36\n",
       "39715    36\n",
       "39716    36\n",
       "Name: term, Length: 38642, dtype: int64"
      ]
     },
     "execution_count": 202,
     "metadata": {},
     "output_type": "execute_result"
    }
   ],
   "execution_count": 202
  },
  {
   "metadata": {
    "ExecuteTime": {
     "end_time": "2024-12-22T15:08:12.402365Z",
     "start_time": "2024-12-22T15:08:12.399204Z"
    }
   },
   "cell_type": "code",
   "source": "df1['int_rate']",
   "id": "193d6a9eb4557d2a",
   "outputs": [
    {
     "data": {
      "text/plain": [
       "0        10.65%\n",
       "1        15.27%\n",
       "2        15.96%\n",
       "3        13.49%\n",
       "4        12.69%\n",
       "          ...  \n",
       "39712     8.07%\n",
       "39713    10.28%\n",
       "39714     8.07%\n",
       "39715     7.43%\n",
       "39716    13.75%\n",
       "Name: int_rate, Length: 38642, dtype: object"
      ]
     },
     "execution_count": 203,
     "metadata": {},
     "output_type": "execute_result"
    }
   ],
   "execution_count": 203
  },
  {
   "metadata": {
    "ExecuteTime": {
     "end_time": "2024-12-22T15:08:13.371848Z",
     "start_time": "2024-12-22T15:08:13.363432Z"
    }
   },
   "cell_type": "code",
   "source": "df1['int_rate'] = df1['int_rate'].str.rstrip('%').astype(float)",
   "id": "4e0d68faeb14816e",
   "outputs": [],
   "execution_count": 204
  },
  {
   "metadata": {
    "ExecuteTime": {
     "end_time": "2024-12-22T15:08:14.395618Z",
     "start_time": "2024-12-22T15:08:14.392484Z"
    }
   },
   "cell_type": "code",
   "source": "df1['int_rate']",
   "id": "c4ee956f17ba9619",
   "outputs": [
    {
     "data": {
      "text/plain": [
       "0        10.65\n",
       "1        15.27\n",
       "2        15.96\n",
       "3        13.49\n",
       "4        12.69\n",
       "         ...  \n",
       "39712     8.07\n",
       "39713    10.28\n",
       "39714     8.07\n",
       "39715     7.43\n",
       "39716    13.75\n",
       "Name: int_rate, Length: 38642, dtype: float64"
      ]
     },
     "execution_count": 205,
     "metadata": {},
     "output_type": "execute_result"
    }
   ],
   "execution_count": 205
  },
  {
   "metadata": {
    "ExecuteTime": {
     "end_time": "2024-12-22T15:08:15.302447Z",
     "start_time": "2024-12-22T15:08:15.298911Z"
    }
   },
   "cell_type": "code",
   "source": "df1['sub_grade']",
   "id": "24a7ee04da9a10d",
   "outputs": [
    {
     "data": {
      "text/plain": [
       "0        B2\n",
       "1        C4\n",
       "2        C5\n",
       "3        C1\n",
       "4        B5\n",
       "         ..\n",
       "39712    A4\n",
       "39713    C1\n",
       "39714    A4\n",
       "39715    A2\n",
       "39716    E2\n",
       "Name: sub_grade, Length: 38642, dtype: object"
      ]
     },
     "execution_count": 206,
     "metadata": {},
     "output_type": "execute_result"
    }
   ],
   "execution_count": 206
  },
  {
   "metadata": {
    "ExecuteTime": {
     "end_time": "2024-12-22T15:08:16.863313Z",
     "start_time": "2024-12-22T15:08:16.857812Z"
    }
   },
   "cell_type": "code",
   "source": [
    "extra_column = ['sub_grade']\n",
    "df1.drop(columns=extra_column, axis=1, inplace=True)"
   ],
   "id": "8803ca6e044cfb26",
   "outputs": [],
   "execution_count": 207
  },
  {
   "metadata": {
    "ExecuteTime": {
     "end_time": "2024-12-22T15:08:18.764692Z",
     "start_time": "2024-12-22T15:08:18.759851Z"
    }
   },
   "cell_type": "code",
   "source": "df1['home_ownership'].value_counts()",
   "id": "ca99bb4ea299a180",
   "outputs": [
    {
     "data": {
      "text/plain": [
       "home_ownership\n",
       "RENT        18488\n",
       "MORTGAGE    17212\n",
       "OWN          2841\n",
       "OTHER          98\n",
       "NONE            3\n",
       "Name: count, dtype: int64"
      ]
     },
     "execution_count": 208,
     "metadata": {},
     "output_type": "execute_result"
    }
   ],
   "execution_count": 208
  },
  {
   "metadata": {
    "ExecuteTime": {
     "end_time": "2024-12-22T15:08:21.299172Z",
     "start_time": "2024-12-22T15:08:21.297701Z"
    }
   },
   "cell_type": "code",
   "source": "",
   "id": "a4771cfed71c146e",
   "outputs": [],
   "execution_count": null
  },
  {
   "metadata": {
    "ExecuteTime": {
     "end_time": "2024-12-22T15:08:22.152422Z",
     "start_time": "2024-12-22T15:08:22.144490Z"
    }
   },
   "cell_type": "code",
   "source": "df1 = df1.loc[df1['home_ownership']!='NONE']\n",
   "id": "f3507b75625e9237",
   "outputs": [],
   "execution_count": 209
  },
  {
   "metadata": {
    "ExecuteTime": {
     "end_time": "2024-12-22T15:08:24.196412Z",
     "start_time": "2024-12-22T15:08:24.191751Z"
    }
   },
   "cell_type": "code",
   "source": "df1['home_ownership'].value_counts()",
   "id": "851cfc6557a79011",
   "outputs": [
    {
     "data": {
      "text/plain": [
       "home_ownership\n",
       "RENT        18488\n",
       "MORTGAGE    17212\n",
       "OWN          2841\n",
       "OTHER          98\n",
       "Name: count, dtype: int64"
      ]
     },
     "execution_count": 210,
     "metadata": {},
     "output_type": "execute_result"
    }
   ],
   "execution_count": 210
  },
  {
   "metadata": {
    "ExecuteTime": {
     "end_time": "2024-12-22T15:08:25.868604Z",
     "start_time": "2024-12-22T15:08:25.856335Z"
    }
   },
   "cell_type": "code",
   "source": "df1.info()",
   "id": "d7bb294204a49fb3",
   "outputs": [
    {
     "name": "stdout",
     "output_type": "stream",
     "text": [
      "<class 'pandas.core.frame.DataFrame'>\n",
      "Index: 38639 entries, 0 to 39716\n",
      "Data columns (total 25 columns):\n",
      " #   Column               Non-Null Count  Dtype  \n",
      "---  ------               --------------  -----  \n",
      " 0   id                   38639 non-null  int64  \n",
      " 1   loan_amnt            38639 non-null  int64  \n",
      " 2   funded_amnt          38639 non-null  int64  \n",
      " 3   funded_amnt_inv      38639 non-null  float64\n",
      " 4   term                 38639 non-null  int64  \n",
      " 5   int_rate             38639 non-null  float64\n",
      " 6   installment          38639 non-null  float64\n",
      " 7   grade                38639 non-null  object \n",
      " 8   emp_length           38639 non-null  int64  \n",
      " 9   home_ownership       38639 non-null  object \n",
      " 10  annual_inc           38639 non-null  float64\n",
      " 11  verification_status  38639 non-null  object \n",
      " 12  issue_d              38639 non-null  object \n",
      " 13  loan_status          38639 non-null  object \n",
      " 14  pymnt_plan           38639 non-null  object \n",
      " 15  purpose              38639 non-null  object \n",
      " 16  addr_state           38639 non-null  object \n",
      " 17  dti                  38639 non-null  float64\n",
      " 18  delinq_2yrs          38639 non-null  int64  \n",
      " 19  pub_rec              38639 non-null  int64  \n",
      " 20  total_acc            38639 non-null  int64  \n",
      " 21  policy_code          38639 non-null  int64  \n",
      " 22  application_type     38639 non-null  object \n",
      " 23  acc_now_delinq       38639 non-null  int64  \n",
      " 24  delinq_amnt          38639 non-null  int64  \n",
      "dtypes: float64(5), int64(11), object(9)\n",
      "memory usage: 7.7+ MB\n"
     ]
    }
   ],
   "execution_count": 211
  },
  {
   "metadata": {
    "ExecuteTime": {
     "end_time": "2024-12-22T15:08:26.946004Z",
     "start_time": "2024-12-22T15:08:26.942855Z"
    }
   },
   "cell_type": "code",
   "source": [
    "df1['home_ownership'] = df1['home_ownership'].astype(str)\n",
    "print(df1['home_ownership'].dtype)"
   ],
   "id": "8ffe83b974b0f9fa",
   "outputs": [
    {
     "name": "stdout",
     "output_type": "stream",
     "text": [
      "object\n"
     ]
    }
   ],
   "execution_count": 212
  },
  {
   "metadata": {
    "ExecuteTime": {
     "end_time": "2024-12-22T15:08:27.931977Z",
     "start_time": "2024-12-22T15:08:27.929897Z"
    }
   },
   "cell_type": "code",
   "source": "print(df1['home_ownership'].dtype)",
   "id": "56ada186f2b3df7c",
   "outputs": [
    {
     "name": "stdout",
     "output_type": "stream",
     "text": [
      "object\n"
     ]
    }
   ],
   "execution_count": 213
  },
  {
   "metadata": {
    "ExecuteTime": {
     "end_time": "2024-12-22T15:08:29.568321Z",
     "start_time": "2024-12-22T15:08:29.556068Z"
    }
   },
   "cell_type": "code",
   "source": "df1.info()",
   "id": "cea885e8cf386653",
   "outputs": [
    {
     "name": "stdout",
     "output_type": "stream",
     "text": [
      "<class 'pandas.core.frame.DataFrame'>\n",
      "Index: 38639 entries, 0 to 39716\n",
      "Data columns (total 25 columns):\n",
      " #   Column               Non-Null Count  Dtype  \n",
      "---  ------               --------------  -----  \n",
      " 0   id                   38639 non-null  int64  \n",
      " 1   loan_amnt            38639 non-null  int64  \n",
      " 2   funded_amnt          38639 non-null  int64  \n",
      " 3   funded_amnt_inv      38639 non-null  float64\n",
      " 4   term                 38639 non-null  int64  \n",
      " 5   int_rate             38639 non-null  float64\n",
      " 6   installment          38639 non-null  float64\n",
      " 7   grade                38639 non-null  object \n",
      " 8   emp_length           38639 non-null  int64  \n",
      " 9   home_ownership       38639 non-null  object \n",
      " 10  annual_inc           38639 non-null  float64\n",
      " 11  verification_status  38639 non-null  object \n",
      " 12  issue_d              38639 non-null  object \n",
      " 13  loan_status          38639 non-null  object \n",
      " 14  pymnt_plan           38639 non-null  object \n",
      " 15  purpose              38639 non-null  object \n",
      " 16  addr_state           38639 non-null  object \n",
      " 17  dti                  38639 non-null  float64\n",
      " 18  delinq_2yrs          38639 non-null  int64  \n",
      " 19  pub_rec              38639 non-null  int64  \n",
      " 20  total_acc            38639 non-null  int64  \n",
      " 21  policy_code          38639 non-null  int64  \n",
      " 22  application_type     38639 non-null  object \n",
      " 23  acc_now_delinq       38639 non-null  int64  \n",
      " 24  delinq_amnt          38639 non-null  int64  \n",
      "dtypes: float64(5), int64(11), object(9)\n",
      "memory usage: 7.7+ MB\n"
     ]
    }
   ],
   "execution_count": 214
  },
  {
   "metadata": {
    "ExecuteTime": {
     "end_time": "2024-12-22T15:08:30.954945Z",
     "start_time": "2024-12-22T15:08:30.951686Z"
    }
   },
   "cell_type": "code",
   "source": "df1['policy_code'].value_counts()",
   "id": "370f8731ed9c5e4f",
   "outputs": [
    {
     "data": {
      "text/plain": [
       "policy_code\n",
       "1    38639\n",
       "Name: count, dtype: int64"
      ]
     },
     "execution_count": 215,
     "metadata": {},
     "output_type": "execute_result"
    }
   ],
   "execution_count": 215
  },
  {
   "metadata": {
    "ExecuteTime": {
     "end_time": "2024-12-22T15:08:32.648419Z",
     "start_time": "2024-12-22T15:08:32.645556Z"
    }
   },
   "cell_type": "code",
   "source": [
    "df1['verification_status'] = df1['verification_status'].astype(str)\n",
    "print((df1['verification_status'].dtype))\n"
   ],
   "id": "89c8e19e123ed122",
   "outputs": [
    {
     "name": "stdout",
     "output_type": "stream",
     "text": [
      "object\n"
     ]
    }
   ],
   "execution_count": 216
  },
  {
   "metadata": {
    "ExecuteTime": {
     "end_time": "2024-12-22T15:08:34.639722Z",
     "start_time": "2024-12-22T15:08:34.634054Z"
    }
   },
   "cell_type": "code",
   "source": [
    "extra_column = ['pymnt_plan','issue_d']\n",
    "df1.drop(columns=extra_column, axis=1, inplace=True)"
   ],
   "id": "810d4be68e97dcd3",
   "outputs": [],
   "execution_count": 217
  },
  {
   "metadata": {
    "ExecuteTime": {
     "end_time": "2024-12-22T15:08:35.625805Z",
     "start_time": "2024-12-22T15:08:35.620824Z"
    }
   },
   "cell_type": "code",
   "source": [
    "extra_column = ['policy_code','total_acc']\n",
    "df1.drop(columns=extra_column, axis=1, inplace=True)"
   ],
   "id": "fd14524af6bc1594",
   "outputs": [],
   "execution_count": 218
  },
  {
   "metadata": {
    "ExecuteTime": {
     "end_time": "2024-12-22T15:08:36.755480Z",
     "start_time": "2024-12-22T15:08:36.744683Z"
    }
   },
   "cell_type": "code",
   "source": "df1.info()",
   "id": "88c7b5e28c5fb151",
   "outputs": [
    {
     "name": "stdout",
     "output_type": "stream",
     "text": [
      "<class 'pandas.core.frame.DataFrame'>\n",
      "Index: 38639 entries, 0 to 39716\n",
      "Data columns (total 21 columns):\n",
      " #   Column               Non-Null Count  Dtype  \n",
      "---  ------               --------------  -----  \n",
      " 0   id                   38639 non-null  int64  \n",
      " 1   loan_amnt            38639 non-null  int64  \n",
      " 2   funded_amnt          38639 non-null  int64  \n",
      " 3   funded_amnt_inv      38639 non-null  float64\n",
      " 4   term                 38639 non-null  int64  \n",
      " 5   int_rate             38639 non-null  float64\n",
      " 6   installment          38639 non-null  float64\n",
      " 7   grade                38639 non-null  object \n",
      " 8   emp_length           38639 non-null  int64  \n",
      " 9   home_ownership       38639 non-null  object \n",
      " 10  annual_inc           38639 non-null  float64\n",
      " 11  verification_status  38639 non-null  object \n",
      " 12  loan_status          38639 non-null  object \n",
      " 13  purpose              38639 non-null  object \n",
      " 14  addr_state           38639 non-null  object \n",
      " 15  dti                  38639 non-null  float64\n",
      " 16  delinq_2yrs          38639 non-null  int64  \n",
      " 17  pub_rec              38639 non-null  int64  \n",
      " 18  application_type     38639 non-null  object \n",
      " 19  acc_now_delinq       38639 non-null  int64  \n",
      " 20  delinq_amnt          38639 non-null  int64  \n",
      "dtypes: float64(5), int64(9), object(7)\n",
      "memory usage: 6.5+ MB\n"
     ]
    }
   ],
   "execution_count": 219
  },
  {
   "metadata": {
    "ExecuteTime": {
     "end_time": "2024-12-22T15:08:38.840950Z",
     "start_time": "2024-12-22T15:08:38.836262Z"
    }
   },
   "cell_type": "code",
   "source": "df1['loan_status'].value_counts()",
   "id": "f8096e963f085226",
   "outputs": [
    {
     "data": {
      "text/plain": [
       "loan_status\n",
       "Fully Paid     32142\n",
       "Charged Off     5399\n",
       "Current         1098\n",
       "Name: count, dtype: int64"
      ]
     },
     "execution_count": 220,
     "metadata": {},
     "output_type": "execute_result"
    }
   ],
   "execution_count": 220
  },
  {
   "metadata": {
    "ExecuteTime": {
     "end_time": "2024-12-22T15:08:40.758053Z",
     "start_time": "2024-12-22T15:08:40.751382Z"
    }
   },
   "cell_type": "code",
   "source": "df_latest = df1.loc[df1['loan_status']!='Current']",
   "id": "64690483abf5bfa7",
   "outputs": [],
   "execution_count": 221
  },
  {
   "metadata": {
    "ExecuteTime": {
     "end_time": "2024-12-22T15:08:42.977393Z",
     "start_time": "2024-12-22T15:08:42.973609Z"
    }
   },
   "cell_type": "code",
   "source": "df_latest['loan_status'] = df_latest['loan_status'].map({'Fully Paid': 1, 'Charged Off': 0})",
   "id": "1affa0d77698903c",
   "outputs": [],
   "execution_count": 222
  },
  {
   "metadata": {
    "ExecuteTime": {
     "end_time": "2024-12-22T15:08:44.890829Z",
     "start_time": "2024-12-22T15:08:44.874632Z"
    }
   },
   "cell_type": "code",
   "source": "df_latest[['loan_amnt','int_rate','dti', 'annual_inc','installment']].describe()",
   "id": "cf35fc4060c008c2",
   "outputs": [
    {
     "data": {
      "text/plain": [
       "          loan_amnt      int_rate           dti    annual_inc   installment\n",
       "count  37541.000000  37541.000000  37541.000000  3.754100e+04  37541.000000\n",
       "mean   11119.771050     11.963580     13.284309  6.940618e+04    324.662009\n",
       "std     7354.173376      3.683037      6.660676  6.467839e+04    208.903386\n",
       "min      500.000000      5.420000      0.000000  4.000000e+03     15.690000\n",
       "25%     5500.000000      8.940000      8.160000  4.100000e+04    167.380000\n",
       "50%    10000.000000     11.830000     13.380000  6.000000e+04    280.000000\n",
       "75%    15000.000000     14.420000     18.550000  8.300000e+04    429.040000\n",
       "max    35000.000000     24.400000     29.990000  6.000000e+06   1305.190000"
      ],
      "text/html": [
       "<div>\n",
       "<style scoped>\n",
       "    .dataframe tbody tr th:only-of-type {\n",
       "        vertical-align: middle;\n",
       "    }\n",
       "\n",
       "    .dataframe tbody tr th {\n",
       "        vertical-align: top;\n",
       "    }\n",
       "\n",
       "    .dataframe thead th {\n",
       "        text-align: right;\n",
       "    }\n",
       "</style>\n",
       "<table border=\"1\" class=\"dataframe\">\n",
       "  <thead>\n",
       "    <tr style=\"text-align: right;\">\n",
       "      <th></th>\n",
       "      <th>loan_amnt</th>\n",
       "      <th>int_rate</th>\n",
       "      <th>dti</th>\n",
       "      <th>annual_inc</th>\n",
       "      <th>installment</th>\n",
       "    </tr>\n",
       "  </thead>\n",
       "  <tbody>\n",
       "    <tr>\n",
       "      <th>count</th>\n",
       "      <td>37541.000000</td>\n",
       "      <td>37541.000000</td>\n",
       "      <td>37541.000000</td>\n",
       "      <td>3.754100e+04</td>\n",
       "      <td>37541.000000</td>\n",
       "    </tr>\n",
       "    <tr>\n",
       "      <th>mean</th>\n",
       "      <td>11119.771050</td>\n",
       "      <td>11.963580</td>\n",
       "      <td>13.284309</td>\n",
       "      <td>6.940618e+04</td>\n",
       "      <td>324.662009</td>\n",
       "    </tr>\n",
       "    <tr>\n",
       "      <th>std</th>\n",
       "      <td>7354.173376</td>\n",
       "      <td>3.683037</td>\n",
       "      <td>6.660676</td>\n",
       "      <td>6.467839e+04</td>\n",
       "      <td>208.903386</td>\n",
       "    </tr>\n",
       "    <tr>\n",
       "      <th>min</th>\n",
       "      <td>500.000000</td>\n",
       "      <td>5.420000</td>\n",
       "      <td>0.000000</td>\n",
       "      <td>4.000000e+03</td>\n",
       "      <td>15.690000</td>\n",
       "    </tr>\n",
       "    <tr>\n",
       "      <th>25%</th>\n",
       "      <td>5500.000000</td>\n",
       "      <td>8.940000</td>\n",
       "      <td>8.160000</td>\n",
       "      <td>4.100000e+04</td>\n",
       "      <td>167.380000</td>\n",
       "    </tr>\n",
       "    <tr>\n",
       "      <th>50%</th>\n",
       "      <td>10000.000000</td>\n",
       "      <td>11.830000</td>\n",
       "      <td>13.380000</td>\n",
       "      <td>6.000000e+04</td>\n",
       "      <td>280.000000</td>\n",
       "    </tr>\n",
       "    <tr>\n",
       "      <th>75%</th>\n",
       "      <td>15000.000000</td>\n",
       "      <td>14.420000</td>\n",
       "      <td>18.550000</td>\n",
       "      <td>8.300000e+04</td>\n",
       "      <td>429.040000</td>\n",
       "    </tr>\n",
       "    <tr>\n",
       "      <th>max</th>\n",
       "      <td>35000.000000</td>\n",
       "      <td>24.400000</td>\n",
       "      <td>29.990000</td>\n",
       "      <td>6.000000e+06</td>\n",
       "      <td>1305.190000</td>\n",
       "    </tr>\n",
       "  </tbody>\n",
       "</table>\n",
       "</div>"
      ]
     },
     "execution_count": 223,
     "metadata": {},
     "output_type": "execute_result"
    }
   ],
   "execution_count": 223
  },
  {
   "metadata": {},
   "cell_type": "code",
   "outputs": [],
   "execution_count": null,
   "source": "",
   "id": "a6040a63a006eb0"
  },
  {
   "metadata": {
    "ExecuteTime": {
     "end_time": "2024-12-22T15:04:15.072529Z",
     "start_time": "2024-12-22T15:04:15.067484Z"
    }
   },
   "cell_type": "code",
   "source": "df_latest['installment'].value_counts()",
   "id": "13b0e4ac44819d66",
   "outputs": [
    {
     "data": {
      "text/plain": [
       "installment\n",
       "311.11    68\n",
       "311.02    54\n",
       "180.96    53\n",
       "150.80    46\n",
       "368.45    45\n",
       "          ..\n",
       "186.84     1\n",
       "748.32     1\n",
       "711.44     1\n",
       "148.04     1\n",
       "255.43     1\n",
       "Name: count, Length: 14799, dtype: int64"
      ]
     },
     "execution_count": 169,
     "metadata": {},
     "output_type": "execute_result"
    }
   ],
   "execution_count": 169
  },
  {
   "metadata": {
    "ExecuteTime": {
     "end_time": "2024-12-22T15:09:54.845979Z",
     "start_time": "2024-12-22T15:09:54.843645Z"
    }
   },
   "cell_type": "code",
   "source": "df_latest['installment'] = df_latest['installment'].astype(int)",
   "id": "7c76d31165f79334",
   "outputs": [],
   "execution_count": 226
  },
  {
   "metadata": {
    "ExecuteTime": {
     "end_time": "2024-12-22T15:09:57.117493Z",
     "start_time": "2024-12-22T15:09:57.114065Z"
    }
   },
   "cell_type": "code",
   "source": "df_latest['installment'].value_counts()",
   "id": "54054360fcfb5c98",
   "outputs": [
    {
     "data": {
      "text/plain": [
       "installment\n",
       "311     225\n",
       "155     186\n",
       "186     155\n",
       "248     155\n",
       "156     153\n",
       "       ... \n",
       "1218      1\n",
       "1302      1\n",
       "1022      1\n",
       "1237      1\n",
       "15        1\n",
       "Name: count, Length: 1048, dtype: int64"
      ]
     },
     "execution_count": 227,
     "metadata": {},
     "output_type": "execute_result"
    }
   ],
   "execution_count": 227
  },
  {
   "metadata": {
    "ExecuteTime": {
     "end_time": "2024-12-22T15:10:35.265303Z",
     "start_time": "2024-12-22T15:10:35.250295Z"
    }
   },
   "cell_type": "code",
   "source": "df_latest[['loan_amnt','int_rate','dti', 'annual_inc','installment']].describe()\n",
   "id": "8fea0639c950883c",
   "outputs": [
    {
     "data": {
      "text/plain": [
       "          loan_amnt      int_rate           dti    annual_inc   installment\n",
       "count  37541.000000  37541.000000  37541.000000  3.754100e+04  37541.000000\n",
       "mean   11119.771050     11.963580     13.284309  6.940618e+04    324.166351\n",
       "std     7354.173376      3.683037      6.660676  6.467839e+04    208.910477\n",
       "min      500.000000      5.420000      0.000000  4.000000e+03     15.000000\n",
       "25%     5500.000000      8.940000      8.160000  4.100000e+04    167.000000\n",
       "50%    10000.000000     11.830000     13.380000  6.000000e+04    280.000000\n",
       "75%    15000.000000     14.420000     18.550000  8.300000e+04    429.000000\n",
       "max    35000.000000     24.400000     29.990000  6.000000e+06   1305.000000"
      ],
      "text/html": [
       "<div>\n",
       "<style scoped>\n",
       "    .dataframe tbody tr th:only-of-type {\n",
       "        vertical-align: middle;\n",
       "    }\n",
       "\n",
       "    .dataframe tbody tr th {\n",
       "        vertical-align: top;\n",
       "    }\n",
       "\n",
       "    .dataframe thead th {\n",
       "        text-align: right;\n",
       "    }\n",
       "</style>\n",
       "<table border=\"1\" class=\"dataframe\">\n",
       "  <thead>\n",
       "    <tr style=\"text-align: right;\">\n",
       "      <th></th>\n",
       "      <th>loan_amnt</th>\n",
       "      <th>int_rate</th>\n",
       "      <th>dti</th>\n",
       "      <th>annual_inc</th>\n",
       "      <th>installment</th>\n",
       "    </tr>\n",
       "  </thead>\n",
       "  <tbody>\n",
       "    <tr>\n",
       "      <th>count</th>\n",
       "      <td>37541.000000</td>\n",
       "      <td>37541.000000</td>\n",
       "      <td>37541.000000</td>\n",
       "      <td>3.754100e+04</td>\n",
       "      <td>37541.000000</td>\n",
       "    </tr>\n",
       "    <tr>\n",
       "      <th>mean</th>\n",
       "      <td>11119.771050</td>\n",
       "      <td>11.963580</td>\n",
       "      <td>13.284309</td>\n",
       "      <td>6.940618e+04</td>\n",
       "      <td>324.166351</td>\n",
       "    </tr>\n",
       "    <tr>\n",
       "      <th>std</th>\n",
       "      <td>7354.173376</td>\n",
       "      <td>3.683037</td>\n",
       "      <td>6.660676</td>\n",
       "      <td>6.467839e+04</td>\n",
       "      <td>208.910477</td>\n",
       "    </tr>\n",
       "    <tr>\n",
       "      <th>min</th>\n",
       "      <td>500.000000</td>\n",
       "      <td>5.420000</td>\n",
       "      <td>0.000000</td>\n",
       "      <td>4.000000e+03</td>\n",
       "      <td>15.000000</td>\n",
       "    </tr>\n",
       "    <tr>\n",
       "      <th>25%</th>\n",
       "      <td>5500.000000</td>\n",
       "      <td>8.940000</td>\n",
       "      <td>8.160000</td>\n",
       "      <td>4.100000e+04</td>\n",
       "      <td>167.000000</td>\n",
       "    </tr>\n",
       "    <tr>\n",
       "      <th>50%</th>\n",
       "      <td>10000.000000</td>\n",
       "      <td>11.830000</td>\n",
       "      <td>13.380000</td>\n",
       "      <td>6.000000e+04</td>\n",
       "      <td>280.000000</td>\n",
       "    </tr>\n",
       "    <tr>\n",
       "      <th>75%</th>\n",
       "      <td>15000.000000</td>\n",
       "      <td>14.420000</td>\n",
       "      <td>18.550000</td>\n",
       "      <td>8.300000e+04</td>\n",
       "      <td>429.000000</td>\n",
       "    </tr>\n",
       "    <tr>\n",
       "      <th>max</th>\n",
       "      <td>35000.000000</td>\n",
       "      <td>24.400000</td>\n",
       "      <td>29.990000</td>\n",
       "      <td>6.000000e+06</td>\n",
       "      <td>1305.000000</td>\n",
       "    </tr>\n",
       "  </tbody>\n",
       "</table>\n",
       "</div>"
      ]
     },
     "execution_count": 228,
     "metadata": {},
     "output_type": "execute_result"
    }
   ],
   "execution_count": 228
  },
  {
   "metadata": {
    "ExecuteTime": {
     "end_time": "2024-12-22T15:16:39.030439Z",
     "start_time": "2024-12-22T15:16:39.027947Z"
    }
   },
   "cell_type": "code",
   "source": "df_latest.columns",
   "id": "b664a5ec0247868f",
   "outputs": [
    {
     "data": {
      "text/plain": [
       "Index(['id', 'loan_amnt', 'funded_amnt', 'funded_amnt_inv', 'term', 'int_rate',\n",
       "       'installment', 'grade', 'emp_length', 'home_ownership', 'annual_inc',\n",
       "       'verification_status', 'loan_status', 'purpose', 'addr_state', 'dti',\n",
       "       'delinq_2yrs', 'pub_rec', 'application_type', 'acc_now_delinq',\n",
       "       'delinq_amnt'],\n",
       "      dtype='object')"
      ]
     },
     "execution_count": 229,
     "metadata": {},
     "output_type": "execute_result"
    }
   ],
   "execution_count": 229
  },
  {
   "metadata": {
    "ExecuteTime": {
     "end_time": "2024-12-22T15:22:04.717124Z",
     "start_time": "2024-12-22T15:22:04.465925Z"
    }
   },
   "cell_type": "code",
   "source": [
    "# Distribution plots\n",
    "sns.histplot(data=df_latest, x='loan_amnt')\n",
    "plt.show()\n",
    "sns.kdeplot(data=df_latest, x='annual_inc')\n",
    "plt.show()\n",
    "sns.boxplot(data=df_latest, y='int_rate')\n",
    "plt.show()\n",
    "# Count plots for categorical\n",
    "sns.countplot(data=df_latest, x='grade')\n",
    "plt.show()"
   ],
   "id": "78e7bc6e829a4fbb",
   "outputs": [
    {
     "data": {
      "text/plain": [
       "<Figure size 640x480 with 1 Axes>"
      ],
      "image/png": "[encoded data removed]"
     },
     "metadata": {},
     "output_type": "display_data"
    },
    {
     "data": {
      "text/plain": [
       "<Figure size 640x480 with 1 Axes>"
      ],
      "image/png": "[encoded data removed]"
     },
     "metadata": {},
     "output_type": "display_data"
    },
    {
     "data": {
      "text/plain": [
       "<Figure size 640x480 with 1 Axes>"
      ],
      "image/png": "[encoded data removed]"
     },
     "metadata": {},
     "output_type": "display_data"
    },
    {
     "data": {
      "text/plain": [
       "<Figure size 640x480 with 1 Axes>"
      ],
      "image/png": "[encoded data removed]"
     },
     "metadata": {},
     "output_type": "display_data"
    }
   ],
   "execution_count": 237
  },
  {
   "metadata": {
    "ExecuteTime": {
     "end_time": "2024-12-22T15:30:18.549691Z",
     "start_time": "2024-12-22T15:30:18.462345Z"
    }
   },
   "cell_type": "code",
   "source": [
    "sns.countplot(data=df_latest, x='home_ownership', palette='viridis')\n",
    "plt.show()"
   ],
   "id": "e8f02348f00f59cc",
   "outputs": [
    {
     "data": {
      "text/plain": [
       "<Figure size 640x480 with 1 Axes>"
      ],
      "image/png": "[encoded data removed]"
     },
     "metadata": {},
     "output_type": "display_data"
    }
   ],
   "execution_count": 240
  },
  {
   "metadata": {
    "ExecuteTime": {
     "end_time": "2024-12-22T15:34:03.513792Z",
     "start_time": "2024-12-22T15:34:03.441297Z"
    }
   },
   "cell_type": "code",
   "source": [
    "sns.countplot(data=df_latest, x='loan_status', palette='inferno')\n",
    "plt.xticks([0, 1], ['Charged Off', 'Fully Paid'])\n",
    "plt.show()"
   ],
   "id": "698359344596ac02",
   "outputs": [
    {
     "data": {
      "text/plain": [
       "<Figure size 640x480 with 1 Axes>"
      ],
      "image/png": "[encoded data removed]"
     },
     "metadata": {},
     "output_type": "display_data"
    }
   ],
   "execution_count": 242
  },
  {
   "metadata": {},
   "cell_type": "code",
   "outputs": [],
   "execution_count": null,
   "source": "",
   "id": "af77883270c6e3a8"
  }
 ],
 "metadata": {
  "kernelspec": {
   "display_name": "Python 3",
   "language": "python",
   "name": "python3"
  },
  "language_info": {
   "codemirror_mode": {
    "name": "ipython",
    "version": 2
   },
   "file_extension": ".py",
   "mimetype": "text/x-python",
   "name": "python",
   "nbconvert_exporter": "python",
   "pygments_lexer": "ipython2",
   "version": "2.7.6"
  }
 },
 "nbformat": 4,
 "nbformat_minor": 5
}
