{
 "cells": [
  {
   "metadata": {},
   "cell_type": "markdown",
   "source": [
    "# Section 1: Importing Necessary Libraries\n",
    "# Importing required libraries for data manipulation, visualization, and analysis"
   ],
   "id": "c9446bec71ca28fa"
  },
  {
   "metadata": {
    "ExecuteTime": {
     "end_time": "2024-12-23T06:49:10.788565Z",
     "start_time": "2024-12-23T06:49:10.786301Z"
    }
   },
   "cell_type": "code",
   "source": [
    "import pandas as pd\n",
    "import numpy as np\n",
    "import matplotlib.pyplot as plt\n",
    "%matplotlib inline\n",
    "import seaborn as sns\n",
    "import warnings\n",
    "warnings.filterwarnings('ignore')\n",
    "print('Packages imported successfully')"
   ],
   "id": "445ef508ad1d571e",
   "outputs": [
    {
     "name": "stdout",
     "output_type": "stream",
     "text": [
      "Packages imported successfully\n"
     ]
    }
   ],
   "execution_count": 243
  },
  {
   "metadata": {},
   "cell_type": "markdown",
   "source": [
    "# Section 2: Loading the Dataset\n",
    "# Load the loan dataset and display its structure to understand its contents"
   ],
   "id": "d5296dda0b37405d"
  },
  {
   "metadata": {
    "ExecuteTime": {
     "end_time": "2024-12-23T06:51:25.237282Z",
     "start_time": "2024-12-23T06:51:24.987827Z"
    }
   },
   "cell_type": "code",
   "source": [
    "df=pd.read_csv(\"loan.csv\")\n",
    "print('Data loaded successfully')\n",
    "print(f'The dataset contains {df.shape[0]} rows and {df.shape[1]} columns.')\n"
   ],
   "id": "e18b2fae850f86a2",
   "outputs": [
    {
     "name": "stdout",
     "output_type": "stream",
     "text": [
      "Data loaded successfully\n",
      "The dataset contains 39717 rows and 111 columns.\n"
     ]
    }
   ],
   "execution_count": 245
  },
  {
   "metadata": {},
   "cell_type": "markdown",
   "source": [
    "# Section 3: Initial Data Exploration\n",
    "### Checking the first few rows, data types, and basic statistics of the dataset\n"
   ],
   "id": "5a74d542de280a7b"
  },
  {
   "metadata": {
    "ExecuteTime": {
     "end_time": "2024-12-23T06:53:39.171660Z",
     "start_time": "2024-12-23T06:53:39.167603Z"
    }
   },
   "cell_type": "code",
   "source": "print(df.head())",
   "id": "e456d0347fbda844",
   "outputs": [
    {
     "name": "stdout",
     "output_type": "stream",
     "text": [
      "        id  member_id  loan_amnt  funded_amnt  funded_amnt_inv        term  \\\n",
      "0  1077501    1296599       5000         5000           4975.0   36 months   \n",
      "1  1077430    1314167       2500         2500           2500.0   60 months   \n",
      "2  1077175    1313524       2400         2400           2400.0   36 months   \n",
      "3  1076863    1277178      10000        10000          10000.0   36 months   \n",
      "4  1075358    1311748       3000         3000           3000.0   60 months   \n",
      "\n",
      "  int_rate  installment grade sub_grade  ... num_tl_90g_dpd_24m  \\\n",
      "0   10.65%       162.87     B        B2  ...                NaN   \n",
      "1   15.27%        59.83     C        C4  ...                NaN   \n",
      "2   15.96%        84.33     C        C5  ...                NaN   \n",
      "3   13.49%       339.31     C        C1  ...                NaN   \n",
      "4   12.69%        67.79     B        B5  ...                NaN   \n",
      "\n",
      "  num_tl_op_past_12m pct_tl_nvr_dlq  percent_bc_gt_75 pub_rec_bankruptcies  \\\n",
      "0                NaN            NaN               NaN                  0.0   \n",
      "1                NaN            NaN               NaN                  0.0   \n",
      "2                NaN            NaN               NaN                  0.0   \n",
      "3                NaN            NaN               NaN                  0.0   \n",
      "4                NaN            NaN               NaN                  0.0   \n",
      "\n",
      "  tax_liens tot_hi_cred_lim total_bal_ex_mort total_bc_limit  \\\n",
      "0       0.0             NaN               NaN            NaN   \n",
      "1       0.0             NaN               NaN            NaN   \n",
      "2       0.0             NaN               NaN            NaN   \n",
      "3       0.0             NaN               NaN            NaN   \n",
      "4       0.0             NaN               NaN            NaN   \n",
      "\n",
      "  total_il_high_credit_limit  \n",
      "0                        NaN  \n",
      "1                        NaN  \n",
      "2                        NaN  \n",
      "3                        NaN  \n",
      "4                        NaN  \n",
      "\n",
      "[5 rows x 111 columns]\n"
     ]
    }
   ],
   "execution_count": 246
  },
  {
   "metadata": {
    "ExecuteTime": {
     "end_time": "2024-12-23T06:53:59.231663Z",
     "start_time": "2024-12-23T06:53:59.228007Z"
    }
   },
   "cell_type": "code",
   "source": "print(df.tail())",
   "id": "7b8f9bcadf3a7640",
   "outputs": [
    {
     "name": "stdout",
     "output_type": "stream",
     "text": [
      "          id  member_id  loan_amnt  funded_amnt  funded_amnt_inv        term  \\\n",
      "39712  92187      92174       2500         2500           1075.0   36 months   \n",
      "39713  90665      90607       8500         8500            875.0   36 months   \n",
      "39714  90395      90390       5000         5000           1325.0   36 months   \n",
      "39715  90376      89243       5000         5000            650.0   36 months   \n",
      "39716  87023      86999       7500         7500            800.0   36 months   \n",
      "\n",
      "      int_rate  installment grade sub_grade  ... num_tl_90g_dpd_24m  \\\n",
      "39712    8.07%        78.42     A        A4  ...                NaN   \n",
      "39713   10.28%       275.38     C        C1  ...                NaN   \n",
      "39714    8.07%       156.84     A        A4  ...                NaN   \n",
      "39715    7.43%       155.38     A        A2  ...                NaN   \n",
      "39716   13.75%       255.43     E        E2  ...                NaN   \n",
      "\n",
      "      num_tl_op_past_12m pct_tl_nvr_dlq  percent_bc_gt_75  \\\n",
      "39712                NaN            NaN               NaN   \n",
      "39713                NaN            NaN               NaN   \n",
      "39714                NaN            NaN               NaN   \n",
      "39715                NaN            NaN               NaN   \n",
      "39716                NaN            NaN               NaN   \n",
      "\n",
      "      pub_rec_bankruptcies tax_liens tot_hi_cred_lim total_bal_ex_mort  \\\n",
      "39712                  NaN       NaN             NaN               NaN   \n",
      "39713                  NaN       NaN             NaN               NaN   \n",
      "39714                  NaN       NaN             NaN               NaN   \n",
      "39715                  NaN       NaN             NaN               NaN   \n",
      "39716                  NaN       NaN             NaN               NaN   \n",
      "\n",
      "      total_bc_limit total_il_high_credit_limit  \n",
      "39712            NaN                        NaN  \n",
      "39713            NaN                        NaN  \n",
      "39714            NaN                        NaN  \n",
      "39715            NaN                        NaN  \n",
      "39716            NaN                        NaN  \n",
      "\n",
      "[5 rows x 111 columns]\n"
     ]
    }
   ],
   "execution_count": 247
  },
  {
   "metadata": {
    "ExecuteTime": {
     "end_time": "2024-12-23T06:54:13.261849Z",
     "start_time": "2024-12-23T06:54:13.194560Z"
    }
   },
   "cell_type": "code",
   "source": "print(df.describe())",
   "id": "da1f1c4f555c75a7",
   "outputs": [
    {
     "name": "stdout",
     "output_type": "stream",
     "text": [
      "                 id     member_id     loan_amnt   funded_amnt  \\\n",
      "count  3.971700e+04  3.971700e+04  39717.000000  39717.000000   \n",
      "mean   6.831319e+05  8.504636e+05  11219.443815  10947.713196   \n",
      "std    2.106941e+05  2.656783e+05   7456.670694   7187.238670   \n",
      "min    5.473400e+04  7.069900e+04    500.000000    500.000000   \n",
      "25%    5.162210e+05  6.667800e+05   5500.000000   5400.000000   \n",
      "50%    6.656650e+05  8.508120e+05  10000.000000   9600.000000   \n",
      "75%    8.377550e+05  1.047339e+06  15000.000000  15000.000000   \n",
      "max    1.077501e+06  1.314167e+06  35000.000000  35000.000000   \n",
      "\n",
      "       funded_amnt_inv   installment    annual_inc           dti  \\\n",
      "count     39717.000000  39717.000000  3.971700e+04  39717.000000   \n",
      "mean      10397.448868    324.561922  6.896893e+04     13.315130   \n",
      "std        7128.450439    208.874874  6.379377e+04      6.678594   \n",
      "min           0.000000     15.690000  4.000000e+03      0.000000   \n",
      "25%        5000.000000    167.020000  4.040400e+04      8.170000   \n",
      "50%        8975.000000    280.220000  5.900000e+04     13.400000   \n",
      "75%       14400.000000    430.780000  8.230000e+04     18.600000   \n",
      "max       35000.000000   1305.190000  6.000000e+06     29.990000   \n",
      "\n",
      "        delinq_2yrs  inq_last_6mths  ...  num_tl_90g_dpd_24m  \\\n",
      "count  39717.000000    39717.000000  ...                 0.0   \n",
      "mean       0.146512        0.869200  ...                 NaN   \n",
      "std        0.491812        1.070219  ...                 NaN   \n",
      "min        0.000000        0.000000  ...                 NaN   \n",
      "25%        0.000000        0.000000  ...                 NaN   \n",
      "50%        0.000000        1.000000  ...                 NaN   \n",
      "75%        0.000000        1.000000  ...                 NaN   \n",
      "max       11.000000        8.000000  ...                 NaN   \n",
      "\n",
      "       num_tl_op_past_12m  pct_tl_nvr_dlq  percent_bc_gt_75  \\\n",
      "count                 0.0             0.0               0.0   \n",
      "mean                  NaN             NaN               NaN   \n",
      "std                   NaN             NaN               NaN   \n",
      "min                   NaN             NaN               NaN   \n",
      "25%                   NaN             NaN               NaN   \n",
      "50%                   NaN             NaN               NaN   \n",
      "75%                   NaN             NaN               NaN   \n",
      "max                   NaN             NaN               NaN   \n",
      "\n",
      "       pub_rec_bankruptcies  tax_liens  tot_hi_cred_lim  total_bal_ex_mort  \\\n",
      "count          39020.000000    39678.0              0.0                0.0   \n",
      "mean               0.043260        0.0              NaN                NaN   \n",
      "std                0.204324        0.0              NaN                NaN   \n",
      "min                0.000000        0.0              NaN                NaN   \n",
      "25%                0.000000        0.0              NaN                NaN   \n",
      "50%                0.000000        0.0              NaN                NaN   \n",
      "75%                0.000000        0.0              NaN                NaN   \n",
      "max                2.000000        0.0              NaN                NaN   \n",
      "\n",
      "       total_bc_limit  total_il_high_credit_limit  \n",
      "count             0.0                         0.0  \n",
      "mean              NaN                         NaN  \n",
      "std               NaN                         NaN  \n",
      "min               NaN                         NaN  \n",
      "25%               NaN                         NaN  \n",
      "50%               NaN                         NaN  \n",
      "75%               NaN                         NaN  \n",
      "max               NaN                         NaN  \n",
      "\n",
      "[8 rows x 87 columns]\n"
     ]
    }
   ],
   "execution_count": 248
  },
  {
   "metadata": {},
   "cell_type": "markdown",
   "source": "### Section 4: Data Cleaning\n",
   "id": "c03f7343654d89ac"
  },
  {
   "metadata": {
    "ExecuteTime": {
     "end_time": "2024-12-23T07:55:00.342242Z",
     "start_time": "2024-12-23T07:55:00.324059Z"
    }
   },
   "cell_type": "code",
   "source": [
    "# Count the total number of missing values in each column\n",
    "# This helps identify which columns have missing data and sorts them in descending order\n",
    "df.isnull().sum().sort_values(ascending=False)"
   ],
   "id": "98756df6a6a15b22",
   "outputs": [
    {
     "data": {
      "text/plain": [
       "verification_status_joint    39717\n",
       "annual_inc_joint             39717\n",
       "mo_sin_old_rev_tl_op         39717\n",
       "mo_sin_old_il_acct           39717\n",
       "bc_util                      39717\n",
       "                             ...  \n",
       "delinq_amnt                      0\n",
       "policy_code                      0\n",
       "earliest_cr_line                 0\n",
       "delinq_2yrs                      0\n",
       "id                               0\n",
       "Length: 111, dtype: int64"
      ]
     },
     "execution_count": 249,
     "metadata": {},
     "output_type": "execute_result"
    }
   ],
   "execution_count": 249
  },
  {
   "metadata": {
    "ExecuteTime": {
     "end_time": "2024-12-23T07:57:30.052759Z",
     "start_time": "2024-12-23T07:57:30.032568Z"
    }
   },
   "cell_type": "code",
   "source": [
    "#Calculate the percentage of missing values for each column\n",
    "# Divide the number of missing values in a column by the total number of rows in the DataFrame\n",
    "missing_perc = df.isna().sum() / len(df) * 100\n",
    "\n",
    "# Filter the column names where missing values > 40%\n",
    "columns_with_high_missing = missing_perc[missing_perc > 40].index.tolist()\n",
    "\n",
    "# Display the result\n",
    "print(\"Columns with more than 40% missing values:\")\n",
    "print(columns_with_high_missing)\n"
   ],
   "id": "7b7b40f1c536f67a",
   "outputs": [
    {
     "name": "stdout",
     "output_type": "stream",
     "text": [
      "Columns with more than 40% missing values:\n",
      "['mths_since_last_delinq', 'mths_since_last_record', 'next_pymnt_d', 'mths_since_last_major_derog', 'annual_inc_joint', 'dti_joint', 'verification_status_joint', 'tot_coll_amt', 'tot_cur_bal', 'open_acc_6m', 'open_il_6m', 'open_il_12m', 'open_il_24m', 'mths_since_rcnt_il', 'total_bal_il', 'il_util', 'open_rv_12m', 'open_rv_24m', 'max_bal_bc', 'all_util', 'total_rev_hi_lim', 'inq_fi', 'total_cu_tl', 'inq_last_12m', 'acc_open_past_24mths', 'avg_cur_bal', 'bc_open_to_buy', 'bc_util', 'mo_sin_old_il_acct', 'mo_sin_old_rev_tl_op', 'mo_sin_rcnt_rev_tl_op', 'mo_sin_rcnt_tl', 'mort_acc', 'mths_since_recent_bc', 'mths_since_recent_bc_dlq', 'mths_since_recent_inq', 'mths_since_recent_revol_delinq', 'num_accts_ever_120_pd', 'num_actv_bc_tl', 'num_actv_rev_tl', 'num_bc_sats', 'num_bc_tl', 'num_il_tl', 'num_op_rev_tl', 'num_rev_accts', 'num_rev_tl_bal_gt_0', 'num_sats', 'num_tl_120dpd_2m', 'num_tl_30dpd', 'num_tl_90g_dpd_24m', 'num_tl_op_past_12m', 'pct_tl_nvr_dlq', 'percent_bc_gt_75', 'tot_hi_cred_lim', 'total_bal_ex_mort', 'total_bc_limit', 'total_il_high_credit_limit']\n"
     ]
    }
   ],
   "execution_count": 250
  },
  {
   "metadata": {
    "ExecuteTime": {
     "end_time": "2024-12-23T07:58:34.358815Z",
     "start_time": "2024-12-23T07:58:34.350467Z"
    }
   },
   "cell_type": "code",
   "source": [
    "# Dropping all the columns as these columns will not help in any analysis for the case study\n",
    "df.drop(columns=columns_with_high_missing, axis=1, inplace=True)"
   ],
   "id": "52dd07627e0cfa07",
   "outputs": [],
   "execution_count": 251
  },
  {
   "metadata": {
    "ExecuteTime": {
     "end_time": "2024-12-23T07:58:42.303027Z",
     "start_time": "2024-12-23T07:58:42.281686Z"
    }
   },
   "cell_type": "code",
   "source": "df.info()",
   "id": "ad33d0bbc231192a",
   "outputs": [
    {
     "name": "stdout",
     "output_type": "stream",
     "text": [
      "<class 'pandas.core.frame.DataFrame'>\n",
      "RangeIndex: 39717 entries, 0 to 39716\n",
      "Data columns (total 54 columns):\n",
      " #   Column                      Non-Null Count  Dtype  \n",
      "---  ------                      --------------  -----  \n",
      " 0   id                          39717 non-null  int64  \n",
      " 1   member_id                   39717 non-null  int64  \n",
      " 2   loan_amnt                   39717 non-null  int64  \n",
      " 3   funded_amnt                 39717 non-null  int64  \n",
      " 4   funded_amnt_inv             39717 non-null  float64\n",
      " 5   term                        39717 non-null  object \n",
      " 6   int_rate                    39717 non-null  object \n",
      " 7   installment                 39717 non-null  float64\n",
      " 8   grade                       39717 non-null  object \n",
      " 9   sub_grade                   39717 non-null  object \n",
      " 10  emp_title                   37258 non-null  object \n",
      " 11  emp_length                  38642 non-null  object \n",
      " 12  home_ownership              39717 non-null  object \n",
      " 13  annual_inc                  39717 non-null  float64\n",
      " 14  verification_status         39717 non-null  object \n",
      " 15  issue_d                     39717 non-null  object \n",
      " 16  loan_status                 39717 non-null  object \n",
      " 17  pymnt_plan                  39717 non-null  object \n",
      " 18  url                         39717 non-null  object \n",
      " 19  desc                        26775 non-null  object \n",
      " 20  purpose                     39717 non-null  object \n",
      " 21  title                       39706 non-null  object \n",
      " 22  zip_code                    39717 non-null  object \n",
      " 23  addr_state                  39717 non-null  object \n",
      " 24  dti                         39717 non-null  float64\n",
      " 25  delinq_2yrs                 39717 non-null  int64  \n",
      " 26  earliest_cr_line            39717 non-null  object \n",
      " 27  inq_last_6mths              39717 non-null  int64  \n",
      " 28  open_acc                    39717 non-null  int64  \n",
      " 29  pub_rec                     39717 non-null  int64  \n",
      " 30  revol_bal                   39717 non-null  int64  \n",
      " 31  revol_util                  39667 non-null  object \n",
      " 32  total_acc                   39717 non-null  int64  \n",
      " 33  initial_list_status         39717 non-null  object \n",
      " 34  out_prncp                   39717 non-null  float64\n",
      " 35  out_prncp_inv               39717 non-null  float64\n",
      " 36  total_pymnt                 39717 non-null  float64\n",
      " 37  total_pymnt_inv             39717 non-null  float64\n",
      " 38  total_rec_prncp             39717 non-null  float64\n",
      " 39  total_rec_int               39717 non-null  float64\n",
      " 40  total_rec_late_fee          39717 non-null  float64\n",
      " 41  recoveries                  39717 non-null  float64\n",
      " 42  collection_recovery_fee     39717 non-null  float64\n",
      " 43  last_pymnt_d                39646 non-null  object \n",
      " 44  last_pymnt_amnt             39717 non-null  float64\n",
      " 45  last_credit_pull_d          39715 non-null  object \n",
      " 46  collections_12_mths_ex_med  39661 non-null  float64\n",
      " 47  policy_code                 39717 non-null  int64  \n",
      " 48  application_type            39717 non-null  object \n",
      " 49  acc_now_delinq              39717 non-null  int64  \n",
      " 50  chargeoff_within_12_mths    39661 non-null  float64\n",
      " 51  delinq_amnt                 39717 non-null  int64  \n",
      " 52  pub_rec_bankruptcies        39020 non-null  float64\n",
      " 53  tax_liens                   39678 non-null  float64\n",
      "dtypes: float64(18), int64(13), object(23)\n",
      "memory usage: 16.4+ MB\n"
     ]
    }
   ],
   "execution_count": 252
  },
  {
   "metadata": {
    "ExecuteTime": {
     "end_time": "2024-12-23T12:04:22.052218Z",
     "start_time": "2024-12-23T12:04:22.044629Z"
    }
   },
   "cell_type": "code",
   "source": [
    "### These columns are either not required for analysis or duplicate because similar value can be derived from a different column\n",
    "\n",
    "extra_columns_to_be_deleted = ['member_id','url', 'collection_recovery_fee','desc', 'last_credit_pull_d', 'collections_12_mths_ex_med', 'title', 'emp_title', 'zip_code', 'earliest_cr_line', 'inq_last_6mths', 'open_acc', 'pub_rec_bankruptcies',  'revol_bal', 'revol_util', 'initial_list_status', 'out_prncp', 'out_prncp_inv', 'total_pymnt', 'total_pymnt_inv','total_rec_prncp', 'total_rec_int', 'total_rec_late_fee', 'recoveries', 'last_pymnt_d', 'last_pymnt_amnt',  'last_credit_pull_d', 'collections_12_mths_ex_med','tax_liens', 'chargeoff_within_12_mths', 'sub_grade', 'pymnt_plan','issue_d', 'policy_code','total_acc']\n",
    "\n",
    "df.drop(columns=extra_columns_to_be_deleted, axis=1, inplace=True)\n",
    "\n"
   ],
   "id": "32225040847f8270",
   "outputs": [],
   "execution_count": 253
  },
  {
   "metadata": {
    "ExecuteTime": {
     "end_time": "2024-12-23T12:04:25.759135Z",
     "start_time": "2024-12-23T12:04:25.748982Z"
    }
   },
   "cell_type": "code",
   "source": "df.info()",
   "id": "b59475565db23180",
   "outputs": [
    {
     "name": "stdout",
     "output_type": "stream",
     "text": [
      "<class 'pandas.core.frame.DataFrame'>\n",
      "RangeIndex: 39717 entries, 0 to 39716\n",
      "Data columns (total 21 columns):\n",
      " #   Column               Non-Null Count  Dtype  \n",
      "---  ------               --------------  -----  \n",
      " 0   id                   39717 non-null  int64  \n",
      " 1   loan_amnt            39717 non-null  int64  \n",
      " 2   funded_amnt          39717 non-null  int64  \n",
      " 3   funded_amnt_inv      39717 non-null  float64\n",
      " 4   term                 39717 non-null  object \n",
      " 5   int_rate             39717 non-null  object \n",
      " 6   installment          39717 non-null  float64\n",
      " 7   grade                39717 non-null  object \n",
      " 8   emp_length           38642 non-null  object \n",
      " 9   home_ownership       39717 non-null  object \n",
      " 10  annual_inc           39717 non-null  float64\n",
      " 11  verification_status  39717 non-null  object \n",
      " 12  loan_status          39717 non-null  object \n",
      " 13  purpose              39717 non-null  object \n",
      " 14  addr_state           39717 non-null  object \n",
      " 15  dti                  39717 non-null  float64\n",
      " 16  delinq_2yrs          39717 non-null  int64  \n",
      " 17  pub_rec              39717 non-null  int64  \n",
      " 18  application_type     39717 non-null  object \n",
      " 19  acc_now_delinq       39717 non-null  int64  \n",
      " 20  delinq_amnt          39717 non-null  int64  \n",
      "dtypes: float64(4), int64(7), object(10)\n",
      "memory usage: 6.4+ MB\n"
     ]
    }
   ],
   "execution_count": 254
  },
  {
   "metadata": {},
   "cell_type": "markdown",
   "source": "### Checking 'na' values again to see if any data can be corrected",
   "id": "555596cc920a7628"
  },
  {
   "metadata": {
    "ExecuteTime": {
     "end_time": "2024-12-23T12:05:54.152625Z",
     "start_time": "2024-12-23T12:05:54.142289Z"
    }
   },
   "cell_type": "code",
   "source": "df.isna().sum()",
   "id": "b3c6889482aec9f0",
   "outputs": [
    {
     "data": {
      "text/plain": [
       "id                        0\n",
       "loan_amnt                 0\n",
       "funded_amnt               0\n",
       "funded_amnt_inv           0\n",
       "term                      0\n",
       "int_rate                  0\n",
       "installment               0\n",
       "grade                     0\n",
       "emp_length             1075\n",
       "home_ownership            0\n",
       "annual_inc                0\n",
       "verification_status       0\n",
       "loan_status               0\n",
       "purpose                   0\n",
       "addr_state                0\n",
       "dti                       0\n",
       "delinq_2yrs               0\n",
       "pub_rec                   0\n",
       "application_type          0\n",
       "acc_now_delinq            0\n",
       "delinq_amnt               0\n",
       "dtype: int64"
      ]
     },
     "execution_count": 256,
     "metadata": {},
     "output_type": "execute_result"
    }
   ],
   "execution_count": 256
  },
  {
   "metadata": {},
   "cell_type": "markdown",
   "source": "### Starting with emp_length column first as it is of type Object",
   "id": "3e2eadff30a50dac"
  },
  {
   "metadata": {
    "ExecuteTime": {
     "end_time": "2024-12-23T15:49:02.063911Z",
     "start_time": "2024-12-23T15:49:02.061293Z"
    }
   },
   "cell_type": "code",
   "source": "df['emp_length']",
   "id": "dadc1c6b7bec71bd",
   "outputs": [
    {
     "data": {
      "text/plain": [
       "0        10+ years\n",
       "1         < 1 year\n",
       "2        10+ years\n",
       "3        10+ years\n",
       "4           1 year\n",
       "           ...    \n",
       "39712      4 years\n",
       "39713      3 years\n",
       "39714     < 1 year\n",
       "39715     < 1 year\n",
       "39716     < 1 year\n",
       "Name: emp_length, Length: 39717, dtype: object"
      ]
     },
     "execution_count": 258,
     "metadata": {},
     "output_type": "execute_result"
    }
   ],
   "execution_count": 258
  },
  {
   "metadata": {
    "ExecuteTime": {
     "end_time": "2024-12-22T15:07:52.123384Z",
     "start_time": "2024-12-22T15:07:52.120753Z"
    }
   },
   "cell_type": "code",
   "source": [
    "test_length = len(df['emp_length'])\n",
    "test_length"
   ],
   "id": "519e2d19469b6e46",
   "outputs": [
    {
     "data": {
      "text/plain": [
       "39717"
      ]
     },
     "execution_count": 189,
     "metadata": {},
     "output_type": "execute_result"
    }
   ],
   "execution_count": 189
  },
  {
   "metadata": {
    "ExecuteTime": {
     "end_time": "2024-12-23T15:50:20.198126Z",
     "start_time": "2024-12-23T15:50:20.191906Z"
    }
   },
   "cell_type": "code",
   "source": [
    "### First deleting the rows with NA values\n",
    "df1 = df.dropna(subset='emp_length')"
   ],
   "id": "3b6c54ea218a06c8",
   "outputs": [],
   "execution_count": 259
  },
  {
   "metadata": {
    "ExecuteTime": {
     "end_time": "2024-12-23T15:50:22.645437Z",
     "start_time": "2024-12-23T15:50:22.633707Z"
    }
   },
   "cell_type": "code",
   "source": "df1.isna().sum()\n",
   "id": "bc845e71638e48db",
   "outputs": [
    {
     "data": {
      "text/plain": [
       "id                     0\n",
       "loan_amnt              0\n",
       "funded_amnt            0\n",
       "funded_amnt_inv        0\n",
       "term                   0\n",
       "int_rate               0\n",
       "installment            0\n",
       "grade                  0\n",
       "emp_length             0\n",
       "home_ownership         0\n",
       "annual_inc             0\n",
       "verification_status    0\n",
       "loan_status            0\n",
       "purpose                0\n",
       "addr_state             0\n",
       "dti                    0\n",
       "delinq_2yrs            0\n",
       "pub_rec                0\n",
       "application_type       0\n",
       "acc_now_delinq         0\n",
       "delinq_amnt            0\n",
       "dtype: int64"
      ]
     },
     "execution_count": 260,
     "metadata": {},
     "output_type": "execute_result"
    }
   ],
   "execution_count": 260
  },
  {
   "metadata": {
    "ExecuteTime": {
     "end_time": "2024-12-24T06:41:27.599787Z",
     "start_time": "2024-12-24T06:41:27.590123Z"
    }
   },
   "cell_type": "code",
   "source": [
    "### method to clean up the employee length values\n",
    "### Convert the values into by removing extra string values and symbols\n",
    "def refactor_emp_length(emp_length):\n",
    "\n",
    "    if emp_length == '< 1 year':\n",
    "        return 0\n",
    "    elif emp_length == '10+ years':\n",
    "        return 10\n",
    "    else:\n",
    "        return int(emp_length.split()[0])\n",
    "\n",
    "## Saving the data into a new Data Frame\n",
    "df1['emp_length'] = df1['emp_length'].apply(refactor_emp_length)"
   ],
   "id": "a30b07a3388b4905",
   "outputs": [],
   "execution_count": 261
  },
  {
   "metadata": {
    "ExecuteTime": {
     "end_time": "2024-12-24T06:41:31.232202Z",
     "start_time": "2024-12-24T06:41:31.229477Z"
    }
   },
   "cell_type": "code",
   "source": "df1['emp_length']",
   "id": "d2af2fa83716e3",
   "outputs": [
    {
     "data": {
      "text/plain": [
       "0        10\n",
       "1         0\n",
       "2        10\n",
       "3        10\n",
       "4         1\n",
       "         ..\n",
       "39712     4\n",
       "39713     3\n",
       "39714     0\n",
       "39715     0\n",
       "39716     0\n",
       "Name: emp_length, Length: 38642, dtype: int64"
      ]
     },
     "execution_count": 262,
     "metadata": {},
     "output_type": "execute_result"
    }
   ],
   "execution_count": 262
  },
  {
   "metadata": {
    "ExecuteTime": {
     "end_time": "2024-12-24T06:43:23.326401Z",
     "start_time": "2024-12-24T06:43:23.324373Z"
    }
   },
   "cell_type": "code",
   "source": "df1.columns",
   "id": "711553d44e5a4c88",
   "outputs": [
    {
     "data": {
      "text/plain": [
       "Index(['id', 'loan_amnt', 'funded_amnt', 'funded_amnt_inv', 'term', 'int_rate',\n",
       "       'installment', 'grade', 'emp_length', 'home_ownership', 'annual_inc',\n",
       "       'verification_status', 'loan_status', 'purpose', 'addr_state', 'dti',\n",
       "       'delinq_2yrs', 'pub_rec', 'application_type', 'acc_now_delinq',\n",
       "       'delinq_amnt'],\n",
       "      dtype='object')"
      ]
     },
     "execution_count": 263,
     "metadata": {},
     "output_type": "execute_result"
    }
   ],
   "execution_count": 263
  },
  {
   "metadata": {
    "ExecuteTime": {
     "end_time": "2024-12-24T06:43:26.014431Z",
     "start_time": "2024-12-24T06:43:26.005606Z"
    }
   },
   "cell_type": "code",
   "source": "df1.isna().sum()",
   "id": "3c8a78b0943aadca",
   "outputs": [
    {
     "data": {
      "text/plain": [
       "id                     0\n",
       "loan_amnt              0\n",
       "funded_amnt            0\n",
       "funded_amnt_inv        0\n",
       "term                   0\n",
       "int_rate               0\n",
       "installment            0\n",
       "grade                  0\n",
       "emp_length             0\n",
       "home_ownership         0\n",
       "annual_inc             0\n",
       "verification_status    0\n",
       "loan_status            0\n",
       "purpose                0\n",
       "addr_state             0\n",
       "dti                    0\n",
       "delinq_2yrs            0\n",
       "pub_rec                0\n",
       "application_type       0\n",
       "acc_now_delinq         0\n",
       "delinq_amnt            0\n",
       "dtype: int64"
      ]
     },
     "execution_count": 264,
     "metadata": {},
     "output_type": "execute_result"
    }
   ],
   "execution_count": 264
  },
  {
   "metadata": {
    "ExecuteTime": {
     "end_time": "2024-12-22T15:08:07.514141Z",
     "start_time": "2024-12-22T15:08:07.497891Z"
    }
   },
   "cell_type": "code",
   "source": "df1.info()",
   "id": "4e16957ca728b89c",
   "outputs": [
    {
     "name": "stdout",
     "output_type": "stream",
     "text": [
      "<class 'pandas.core.frame.DataFrame'>\n",
      "Index: 38642 entries, 0 to 39716\n",
      "Data columns (total 26 columns):\n",
      " #   Column               Non-Null Count  Dtype  \n",
      "---  ------               --------------  -----  \n",
      " 0   id                   38642 non-null  int64  \n",
      " 1   loan_amnt            38642 non-null  int64  \n",
      " 2   funded_amnt          38642 non-null  int64  \n",
      " 3   funded_amnt_inv      38642 non-null  float64\n",
      " 4   term                 38642 non-null  object \n",
      " 5   int_rate             38642 non-null  object \n",
      " 6   installment          38642 non-null  float64\n",
      " 7   grade                38642 non-null  object \n",
      " 8   sub_grade            38642 non-null  object \n",
      " 9   emp_length           38642 non-null  int64  \n",
      " 10  home_ownership       38642 non-null  object \n",
      " 11  annual_inc           38642 non-null  float64\n",
      " 12  verification_status  38642 non-null  object \n",
      " 13  issue_d              38642 non-null  object \n",
      " 14  loan_status          38642 non-null  object \n",
      " 15  pymnt_plan           38642 non-null  object \n",
      " 16  purpose              38642 non-null  object \n",
      " 17  addr_state           38642 non-null  object \n",
      " 18  dti                  38642 non-null  float64\n",
      " 19  delinq_2yrs          38642 non-null  int64  \n",
      " 20  pub_rec              38642 non-null  int64  \n",
      " 21  total_acc            38642 non-null  int64  \n",
      " 22  policy_code          38642 non-null  int64  \n",
      " 23  application_type     38642 non-null  object \n",
      " 24  acc_now_delinq       38642 non-null  int64  \n",
      " 25  delinq_amnt          38642 non-null  int64  \n",
      "dtypes: float64(4), int64(10), object(12)\n",
      "memory usage: 8.0+ MB\n"
     ]
    }
   ],
   "execution_count": 199
  },
  {
   "metadata": {},
   "cell_type": "markdown",
   "source": "### Converting the values of term column\n",
   "id": "f5388d40c1516e99"
  },
  {
   "metadata": {
    "ExecuteTime": {
     "end_time": "2024-12-24T06:44:35.567467Z",
     "start_time": "2024-12-24T06:44:35.564996Z"
    }
   },
   "cell_type": "code",
   "source": "df1['term']",
   "id": "90e2da3046f7df40",
   "outputs": [
    {
     "data": {
      "text/plain": [
       "0         36 months\n",
       "1         60 months\n",
       "2         36 months\n",
       "3         36 months\n",
       "4         60 months\n",
       "            ...    \n",
       "39712     36 months\n",
       "39713     36 months\n",
       "39714     36 months\n",
       "39715     36 months\n",
       "39716     36 months\n",
       "Name: term, Length: 38642, dtype: object"
      ]
     },
     "execution_count": 266,
     "metadata": {},
     "output_type": "execute_result"
    }
   ],
   "execution_count": 266
  },
  {
   "metadata": {
    "ExecuteTime": {
     "end_time": "2024-12-24T06:45:14.981422Z",
     "start_time": "2024-12-24T06:45:14.942272Z"
    }
   },
   "cell_type": "code",
   "source": [
    "### term column is of type Object. We are extracting only the int value\n",
    "df1['term'] = df1['term'].str.extract('(\\d+)').astype(int)"
   ],
   "id": "9b661ca758cd9842",
   "outputs": [
    {
     "ename": "AttributeError",
     "evalue": "Can only use .str accessor with string values!",
     "output_type": "error",
     "traceback": [
      "\u001B[0;31m---------------------------------------------------------------------------\u001B[0m",
      "\u001B[0;31mAttributeError\u001B[0m                            Traceback (most recent call last)",
      "Cell \u001B[0;32mIn[268], line 2\u001B[0m\n\u001B[1;32m      1\u001B[0m \u001B[38;5;66;03m### term column is of type Object. We are extracting only the int value\u001B[39;00m\n\u001B[0;32m----> 2\u001B[0m df1[\u001B[38;5;124m'\u001B[39m\u001B[38;5;124mterm\u001B[39m\u001B[38;5;124m'\u001B[39m] \u001B[38;5;241m=\u001B[39m \u001B[43mdf1\u001B[49m\u001B[43m[\u001B[49m\u001B[38;5;124;43m'\u001B[39;49m\u001B[38;5;124;43mterm\u001B[39;49m\u001B[38;5;124;43m'\u001B[39;49m\u001B[43m]\u001B[49m\u001B[38;5;241;43m.\u001B[39;49m\u001B[43mstr\u001B[49m\u001B[38;5;241m.\u001B[39mextract(\u001B[38;5;124m'\u001B[39m\u001B[38;5;124m(\u001B[39m\u001B[38;5;124m\\\u001B[39m\u001B[38;5;124md+)\u001B[39m\u001B[38;5;124m'\u001B[39m)\u001B[38;5;241m.\u001B[39mastype(\u001B[38;5;28mint\u001B[39m)\n",
      "File \u001B[0;32m~/Projects/Personal/Python/LendingCludCaseStudy/.venv/lib/python3.13/site-packages/pandas/core/generic.py:6299\u001B[0m, in \u001B[0;36mNDFrame.__getattr__\u001B[0;34m(self, name)\u001B[0m\n\u001B[1;32m   6292\u001B[0m \u001B[38;5;28;01mif\u001B[39;00m (\n\u001B[1;32m   6293\u001B[0m     name \u001B[38;5;129;01mnot\u001B[39;00m \u001B[38;5;129;01min\u001B[39;00m \u001B[38;5;28mself\u001B[39m\u001B[38;5;241m.\u001B[39m_internal_names_set\n\u001B[1;32m   6294\u001B[0m     \u001B[38;5;129;01mand\u001B[39;00m name \u001B[38;5;129;01mnot\u001B[39;00m \u001B[38;5;129;01min\u001B[39;00m \u001B[38;5;28mself\u001B[39m\u001B[38;5;241m.\u001B[39m_metadata\n\u001B[1;32m   6295\u001B[0m     \u001B[38;5;129;01mand\u001B[39;00m name \u001B[38;5;129;01mnot\u001B[39;00m \u001B[38;5;129;01min\u001B[39;00m \u001B[38;5;28mself\u001B[39m\u001B[38;5;241m.\u001B[39m_accessors\n\u001B[1;32m   6296\u001B[0m     \u001B[38;5;129;01mand\u001B[39;00m \u001B[38;5;28mself\u001B[39m\u001B[38;5;241m.\u001B[39m_info_axis\u001B[38;5;241m.\u001B[39m_can_hold_identifiers_and_holds_name(name)\n\u001B[1;32m   6297\u001B[0m ):\n\u001B[1;32m   6298\u001B[0m     \u001B[38;5;28;01mreturn\u001B[39;00m \u001B[38;5;28mself\u001B[39m[name]\n\u001B[0;32m-> 6299\u001B[0m \u001B[38;5;28;01mreturn\u001B[39;00m \u001B[38;5;28;43mobject\u001B[39;49m\u001B[38;5;241;43m.\u001B[39;49m\u001B[38;5;21;43m__getattribute__\u001B[39;49m\u001B[43m(\u001B[49m\u001B[38;5;28;43mself\u001B[39;49m\u001B[43m,\u001B[49m\u001B[43m \u001B[49m\u001B[43mname\u001B[49m\u001B[43m)\u001B[49m\n",
      "File \u001B[0;32m~/Projects/Personal/Python/LendingCludCaseStudy/.venv/lib/python3.13/site-packages/pandas/core/accessor.py:224\u001B[0m, in \u001B[0;36mCachedAccessor.__get__\u001B[0;34m(self, obj, cls)\u001B[0m\n\u001B[1;32m    221\u001B[0m \u001B[38;5;28;01mif\u001B[39;00m obj \u001B[38;5;129;01mis\u001B[39;00m \u001B[38;5;28;01mNone\u001B[39;00m:\n\u001B[1;32m    222\u001B[0m     \u001B[38;5;66;03m# we're accessing the attribute of the class, i.e., Dataset.geo\u001B[39;00m\n\u001B[1;32m    223\u001B[0m     \u001B[38;5;28;01mreturn\u001B[39;00m \u001B[38;5;28mself\u001B[39m\u001B[38;5;241m.\u001B[39m_accessor\n\u001B[0;32m--> 224\u001B[0m accessor_obj \u001B[38;5;241m=\u001B[39m \u001B[38;5;28;43mself\u001B[39;49m\u001B[38;5;241;43m.\u001B[39;49m\u001B[43m_accessor\u001B[49m\u001B[43m(\u001B[49m\u001B[43mobj\u001B[49m\u001B[43m)\u001B[49m\n\u001B[1;32m    225\u001B[0m \u001B[38;5;66;03m# Replace the property with the accessor object. Inspired by:\u001B[39;00m\n\u001B[1;32m    226\u001B[0m \u001B[38;5;66;03m# https://www.pydanny.com/cached-property.html\u001B[39;00m\n\u001B[1;32m    227\u001B[0m \u001B[38;5;66;03m# We need to use object.__setattr__ because we overwrite __setattr__ on\u001B[39;00m\n\u001B[1;32m    228\u001B[0m \u001B[38;5;66;03m# NDFrame\u001B[39;00m\n\u001B[1;32m    229\u001B[0m \u001B[38;5;28mobject\u001B[39m\u001B[38;5;241m.\u001B[39m\u001B[38;5;21m__setattr__\u001B[39m(obj, \u001B[38;5;28mself\u001B[39m\u001B[38;5;241m.\u001B[39m_name, accessor_obj)\n",
      "File \u001B[0;32m~/Projects/Personal/Python/LendingCludCaseStudy/.venv/lib/python3.13/site-packages/pandas/core/strings/accessor.py:191\u001B[0m, in \u001B[0;36mStringMethods.__init__\u001B[0;34m(self, data)\u001B[0m\n\u001B[1;32m    188\u001B[0m \u001B[38;5;28;01mdef\u001B[39;00m \u001B[38;5;21m__init__\u001B[39m(\u001B[38;5;28mself\u001B[39m, data) \u001B[38;5;241m-\u001B[39m\u001B[38;5;241m>\u001B[39m \u001B[38;5;28;01mNone\u001B[39;00m:\n\u001B[1;32m    189\u001B[0m     \u001B[38;5;28;01mfrom\u001B[39;00m \u001B[38;5;21;01mpandas\u001B[39;00m\u001B[38;5;21;01m.\u001B[39;00m\u001B[38;5;21;01mcore\u001B[39;00m\u001B[38;5;21;01m.\u001B[39;00m\u001B[38;5;21;01marrays\u001B[39;00m\u001B[38;5;21;01m.\u001B[39;00m\u001B[38;5;21;01mstring_\u001B[39;00m \u001B[38;5;28;01mimport\u001B[39;00m StringDtype\n\u001B[0;32m--> 191\u001B[0m     \u001B[38;5;28mself\u001B[39m\u001B[38;5;241m.\u001B[39m_inferred_dtype \u001B[38;5;241m=\u001B[39m \u001B[38;5;28;43mself\u001B[39;49m\u001B[38;5;241;43m.\u001B[39;49m\u001B[43m_validate\u001B[49m\u001B[43m(\u001B[49m\u001B[43mdata\u001B[49m\u001B[43m)\u001B[49m\n\u001B[1;32m    192\u001B[0m     \u001B[38;5;28mself\u001B[39m\u001B[38;5;241m.\u001B[39m_is_categorical \u001B[38;5;241m=\u001B[39m \u001B[38;5;28misinstance\u001B[39m(data\u001B[38;5;241m.\u001B[39mdtype, CategoricalDtype)\n\u001B[1;32m    193\u001B[0m     \u001B[38;5;28mself\u001B[39m\u001B[38;5;241m.\u001B[39m_is_string \u001B[38;5;241m=\u001B[39m \u001B[38;5;28misinstance\u001B[39m(data\u001B[38;5;241m.\u001B[39mdtype, StringDtype)\n",
      "File \u001B[0;32m~/Projects/Personal/Python/LendingCludCaseStudy/.venv/lib/python3.13/site-packages/pandas/core/strings/accessor.py:245\u001B[0m, in \u001B[0;36mStringMethods._validate\u001B[0;34m(data)\u001B[0m\n\u001B[1;32m    242\u001B[0m inferred_dtype \u001B[38;5;241m=\u001B[39m lib\u001B[38;5;241m.\u001B[39minfer_dtype(values, skipna\u001B[38;5;241m=\u001B[39m\u001B[38;5;28;01mTrue\u001B[39;00m)\n\u001B[1;32m    244\u001B[0m \u001B[38;5;28;01mif\u001B[39;00m inferred_dtype \u001B[38;5;129;01mnot\u001B[39;00m \u001B[38;5;129;01min\u001B[39;00m allowed_types:\n\u001B[0;32m--> 245\u001B[0m     \u001B[38;5;28;01mraise\u001B[39;00m \u001B[38;5;167;01mAttributeError\u001B[39;00m(\u001B[38;5;124m\"\u001B[39m\u001B[38;5;124mCan only use .str accessor with string values!\u001B[39m\u001B[38;5;124m\"\u001B[39m)\n\u001B[1;32m    246\u001B[0m \u001B[38;5;28;01mreturn\u001B[39;00m inferred_dtype\n",
      "\u001B[0;31mAttributeError\u001B[0m: Can only use .str accessor with string values!"
     ]
    }
   ],
   "execution_count": 268
  },
  {
   "metadata": {
    "ExecuteTime": {
     "end_time": "2024-12-24T06:45:21.836398Z",
     "start_time": "2024-12-24T06:45:21.833681Z"
    }
   },
   "cell_type": "code",
   "source": "df1['term']",
   "id": "dc2a5d9abc31e3cc",
   "outputs": [
    {
     "data": {
      "text/plain": [
       "0        36\n",
       "1        60\n",
       "2        36\n",
       "3        36\n",
       "4        60\n",
       "         ..\n",
       "39712    36\n",
       "39713    36\n",
       "39714    36\n",
       "39715    36\n",
       "39716    36\n",
       "Name: term, Length: 38642, dtype: int64"
      ]
     },
     "execution_count": 269,
     "metadata": {},
     "output_type": "execute_result"
    }
   ],
   "execution_count": 269
  },
  {
   "metadata": {},
   "cell_type": "markdown",
   "source": "### Converting the int_rate column to float\n",
   "id": "9adbb642b5d129d3"
  },
  {
   "metadata": {
    "ExecuteTime": {
     "end_time": "2024-12-24T06:46:12.024251Z",
     "start_time": "2024-12-24T06:46:12.021766Z"
    }
   },
   "cell_type": "code",
   "source": "df1['int_rate']",
   "id": "193d6a9eb4557d2a",
   "outputs": [
    {
     "data": {
      "text/plain": [
       "0        10.65%\n",
       "1        15.27%\n",
       "2        15.96%\n",
       "3        13.49%\n",
       "4        12.69%\n",
       "          ...  \n",
       "39712     8.07%\n",
       "39713    10.28%\n",
       "39714     8.07%\n",
       "39715     7.43%\n",
       "39716    13.75%\n",
       "Name: int_rate, Length: 38642, dtype: object"
      ]
     },
     "execution_count": 270,
     "metadata": {},
     "output_type": "execute_result"
    }
   ],
   "execution_count": 270
  },
  {
   "metadata": {
    "ExecuteTime": {
     "end_time": "2024-12-24T06:46:16.536828Z",
     "start_time": "2024-12-24T06:46:16.529183Z"
    }
   },
   "cell_type": "code",
   "source": "df1['int_rate'] = df1['int_rate'].str.rstrip('%').astype(float)",
   "id": "4e0d68faeb14816e",
   "outputs": [],
   "execution_count": 271
  },
  {
   "metadata": {
    "ExecuteTime": {
     "end_time": "2024-12-24T06:46:19.119393Z",
     "start_time": "2024-12-24T06:46:19.116364Z"
    }
   },
   "cell_type": "code",
   "source": "df1['int_rate']",
   "id": "c4ee956f17ba9619",
   "outputs": [
    {
     "data": {
      "text/plain": [
       "0        10.65\n",
       "1        15.27\n",
       "2        15.96\n",
       "3        13.49\n",
       "4        12.69\n",
       "         ...  \n",
       "39712     8.07\n",
       "39713    10.28\n",
       "39714     8.07\n",
       "39715     7.43\n",
       "39716    13.75\n",
       "Name: int_rate, Length: 38642, dtype: float64"
      ]
     },
     "execution_count": 272,
     "metadata": {},
     "output_type": "execute_result"
    }
   ],
   "execution_count": 272
  },
  {
   "metadata": {},
   "cell_type": "markdown",
   "source": "### Checking home_ownership values and removing any unwanted rows",
   "id": "95cbd4c537fdca7a"
  },
  {
   "metadata": {
    "ExecuteTime": {
     "end_time": "2024-12-24T06:47:24.759888Z",
     "start_time": "2024-12-24T06:47:24.755677Z"
    }
   },
   "cell_type": "code",
   "source": "df1['home_ownership'].value_counts()",
   "id": "ca99bb4ea299a180",
   "outputs": [
    {
     "data": {
      "text/plain": [
       "home_ownership\n",
       "RENT        18488\n",
       "MORTGAGE    17212\n",
       "OWN          2841\n",
       "OTHER          98\n",
       "NONE            3\n",
       "Name: count, dtype: int64"
      ]
     },
     "execution_count": 274,
     "metadata": {},
     "output_type": "execute_result"
    }
   ],
   "execution_count": 274
  },
  {
   "metadata": {
    "ExecuteTime": {
     "end_time": "2024-12-24T06:50:27.507081Z",
     "start_time": "2024-12-24T06:50:27.501093Z"
    }
   },
   "cell_type": "code",
   "source": "df1 = df1.loc[df1['home_ownership']!='NONE']\n",
   "id": "f3507b75625e9237",
   "outputs": [],
   "execution_count": 275
  },
  {
   "metadata": {
    "ExecuteTime": {
     "end_time": "2024-12-24T06:50:30.479286Z",
     "start_time": "2024-12-24T06:50:30.475009Z"
    }
   },
   "cell_type": "code",
   "source": "df1['home_ownership'].value_counts()",
   "id": "851cfc6557a79011",
   "outputs": [
    {
     "data": {
      "text/plain": [
       "home_ownership\n",
       "RENT        18488\n",
       "MORTGAGE    17212\n",
       "OWN          2841\n",
       "OTHER          98\n",
       "Name: count, dtype: int64"
      ]
     },
     "execution_count": 276,
     "metadata": {},
     "output_type": "execute_result"
    }
   ],
   "execution_count": 276
  },
  {
   "metadata": {
    "ExecuteTime": {
     "end_time": "2024-12-24T06:50:36.083278Z",
     "start_time": "2024-12-24T06:50:36.073343Z"
    }
   },
   "cell_type": "code",
   "source": "df1.info()",
   "id": "d7bb294204a49fb3",
   "outputs": [
    {
     "name": "stdout",
     "output_type": "stream",
     "text": [
      "<class 'pandas.core.frame.DataFrame'>\n",
      "Index: 38639 entries, 0 to 39716\n",
      "Data columns (total 21 columns):\n",
      " #   Column               Non-Null Count  Dtype  \n",
      "---  ------               --------------  -----  \n",
      " 0   id                   38639 non-null  int64  \n",
      " 1   loan_amnt            38639 non-null  int64  \n",
      " 2   funded_amnt          38639 non-null  int64  \n",
      " 3   funded_amnt_inv      38639 non-null  float64\n",
      " 4   term                 38639 non-null  int64  \n",
      " 5   int_rate             38639 non-null  float64\n",
      " 6   installment          38639 non-null  float64\n",
      " 7   grade                38639 non-null  object \n",
      " 8   emp_length           38639 non-null  int64  \n",
      " 9   home_ownership       38639 non-null  object \n",
      " 10  annual_inc           38639 non-null  float64\n",
      " 11  verification_status  38639 non-null  object \n",
      " 12  loan_status          38639 non-null  object \n",
      " 13  purpose              38639 non-null  object \n",
      " 14  addr_state           38639 non-null  object \n",
      " 15  dti                  38639 non-null  float64\n",
      " 16  delinq_2yrs          38639 non-null  int64  \n",
      " 17  pub_rec              38639 non-null  int64  \n",
      " 18  application_type     38639 non-null  object \n",
      " 19  acc_now_delinq       38639 non-null  int64  \n",
      " 20  delinq_amnt          38639 non-null  int64  \n",
      "dtypes: float64(5), int64(9), object(7)\n",
      "memory usage: 6.5+ MB\n"
     ]
    }
   ],
   "execution_count": 277
  },
  {
   "metadata": {
    "ExecuteTime": {
     "end_time": "2024-12-22T15:08:26.946004Z",
     "start_time": "2024-12-22T15:08:26.942855Z"
    }
   },
   "cell_type": "code",
   "source": [
    "df1['home_ownership'] = df1['home_ownership'].astype(str)\n",
    "print(df1['home_ownership'].dtype)"
   ],
   "id": "8ffe83b974b0f9fa",
   "outputs": [
    {
     "name": "stdout",
     "output_type": "stream",
     "text": [
      "object\n"
     ]
    }
   ],
   "execution_count": 212
  },
  {
   "metadata": {
    "ExecuteTime": {
     "end_time": "2024-12-22T15:08:27.931977Z",
     "start_time": "2024-12-22T15:08:27.929897Z"
    }
   },
   "cell_type": "code",
   "source": "print(df1['home_ownership'].dtype)",
   "id": "56ada186f2b3df7c",
   "outputs": [
    {
     "name": "stdout",
     "output_type": "stream",
     "text": [
      "object\n"
     ]
    }
   ],
   "execution_count": 213
  },
  {
   "metadata": {
    "ExecuteTime": {
     "end_time": "2024-12-22T15:08:29.568321Z",
     "start_time": "2024-12-22T15:08:29.556068Z"
    }
   },
   "cell_type": "code",
   "source": "df1.info()",
   "id": "cea885e8cf386653",
   "outputs": [
    {
     "name": "stdout",
     "output_type": "stream",
     "text": [
      "<class 'pandas.core.frame.DataFrame'>\n",
      "Index: 38639 entries, 0 to 39716\n",
      "Data columns (total 25 columns):\n",
      " #   Column               Non-Null Count  Dtype  \n",
      "---  ------               --------------  -----  \n",
      " 0   id                   38639 non-null  int64  \n",
      " 1   loan_amnt            38639 non-null  int64  \n",
      " 2   funded_amnt          38639 non-null  int64  \n",
      " 3   funded_amnt_inv      38639 non-null  float64\n",
      " 4   term                 38639 non-null  int64  \n",
      " 5   int_rate             38639 non-null  float64\n",
      " 6   installment          38639 non-null  float64\n",
      " 7   grade                38639 non-null  object \n",
      " 8   emp_length           38639 non-null  int64  \n",
      " 9   home_ownership       38639 non-null  object \n",
      " 10  annual_inc           38639 non-null  float64\n",
      " 11  verification_status  38639 non-null  object \n",
      " 12  issue_d              38639 non-null  object \n",
      " 13  loan_status          38639 non-null  object \n",
      " 14  pymnt_plan           38639 non-null  object \n",
      " 15  purpose              38639 non-null  object \n",
      " 16  addr_state           38639 non-null  object \n",
      " 17  dti                  38639 non-null  float64\n",
      " 18  delinq_2yrs          38639 non-null  int64  \n",
      " 19  pub_rec              38639 non-null  int64  \n",
      " 20  total_acc            38639 non-null  int64  \n",
      " 21  policy_code          38639 non-null  int64  \n",
      " 22  application_type     38639 non-null  object \n",
      " 23  acc_now_delinq       38639 non-null  int64  \n",
      " 24  delinq_amnt          38639 non-null  int64  \n",
      "dtypes: float64(5), int64(11), object(9)\n",
      "memory usage: 7.7+ MB\n"
     ]
    }
   ],
   "execution_count": 214
  },
  {
   "metadata": {},
   "cell_type": "markdown",
   "source": "### Working on loan_status column and removing the rows with the status as \"Current\"\n",
   "id": "ea3d80c889725347"
  },
  {
   "metadata": {
    "ExecuteTime": {
     "end_time": "2024-12-24T06:52:40.515855Z",
     "start_time": "2024-12-24T06:52:40.511832Z"
    }
   },
   "cell_type": "code",
   "source": "df1['loan_status'].value_counts()",
   "id": "f8096e963f085226",
   "outputs": [
    {
     "data": {
      "text/plain": [
       "loan_status\n",
       "Fully Paid     32142\n",
       "Charged Off     5399\n",
       "Current         1098\n",
       "Name: count, dtype: int64"
      ]
     },
     "execution_count": 278,
     "metadata": {},
     "output_type": "execute_result"
    }
   ],
   "execution_count": 278
  },
  {
   "metadata": {
    "ExecuteTime": {
     "end_time": "2024-12-24T06:53:08.113852Z",
     "start_time": "2024-12-24T06:53:08.106812Z"
    }
   },
   "cell_type": "code",
   "source": [
    "### Assigning the a new data frame\n",
    "df_latest = df1.loc[df1['loan_status']!='Current']"
   ],
   "id": "64690483abf5bfa7",
   "outputs": [],
   "execution_count": 280
  },
  {
   "metadata": {
    "ExecuteTime": {
     "end_time": "2024-12-24T06:55:25.490572Z",
     "start_time": "2024-12-24T06:55:25.486496Z"
    }
   },
   "cell_type": "code",
   "source": [
    "### Assigning binary values to 'Fully Paid' and 'Charged Off' for easy analysis\n",
    "df_latest['loan_status'] = df_latest['loan_status'].map({'Fully Paid': 1, 'Charged Off': 0})"
   ],
   "id": "1affa0d77698903c",
   "outputs": [],
   "execution_count": 293
  },
  {
   "metadata": {
    "ExecuteTime": {
     "end_time": "2024-12-24T06:54:12.414485Z",
     "start_time": "2024-12-24T06:54:12.402638Z"
    }
   },
   "cell_type": "code",
   "source": "df_latest[['loan_amnt','int_rate','dti', 'annual_inc','installment']].describe()",
   "id": "cf35fc4060c008c2",
   "outputs": [
    {
     "data": {
      "text/plain": [
       "          loan_amnt      int_rate           dti    annual_inc   installment\n",
       "count  37541.000000  37541.000000  37541.000000  3.754100e+04  37541.000000\n",
       "mean   11119.771050     11.963580     13.284309  6.940618e+04    324.662009\n",
       "std     7354.173376      3.683037      6.660676  6.467839e+04    208.903386\n",
       "min      500.000000      5.420000      0.000000  4.000000e+03     15.690000\n",
       "25%     5500.000000      8.940000      8.160000  4.100000e+04    167.380000\n",
       "50%    10000.000000     11.830000     13.380000  6.000000e+04    280.000000\n",
       "75%    15000.000000     14.420000     18.550000  8.300000e+04    429.040000\n",
       "max    35000.000000     24.400000     29.990000  6.000000e+06   1305.190000"
      ],
      "text/html": [
       "<div>\n",
       "<style scoped>\n",
       "    .dataframe tbody tr th:only-of-type {\n",
       "        vertical-align: middle;\n",
       "    }\n",
       "\n",
       "    .dataframe tbody tr th {\n",
       "        vertical-align: top;\n",
       "    }\n",
       "\n",
       "    .dataframe thead th {\n",
       "        text-align: right;\n",
       "    }\n",
       "</style>\n",
       "<table border=\"1\" class=\"dataframe\">\n",
       "  <thead>\n",
       "    <tr style=\"text-align: right;\">\n",
       "      <th></th>\n",
       "      <th>loan_amnt</th>\n",
       "      <th>int_rate</th>\n",
       "      <th>dti</th>\n",
       "      <th>annual_inc</th>\n",
       "      <th>installment</th>\n",
       "    </tr>\n",
       "  </thead>\n",
       "  <tbody>\n",
       "    <tr>\n",
       "      <th>count</th>\n",
       "      <td>37541.000000</td>\n",
       "      <td>37541.000000</td>\n",
       "      <td>37541.000000</td>\n",
       "      <td>3.754100e+04</td>\n",
       "      <td>37541.000000</td>\n",
       "    </tr>\n",
       "    <tr>\n",
       "      <th>mean</th>\n",
       "      <td>11119.771050</td>\n",
       "      <td>11.963580</td>\n",
       "      <td>13.284309</td>\n",
       "      <td>6.940618e+04</td>\n",
       "      <td>324.662009</td>\n",
       "    </tr>\n",
       "    <tr>\n",
       "      <th>std</th>\n",
       "      <td>7354.173376</td>\n",
       "      <td>3.683037</td>\n",
       "      <td>6.660676</td>\n",
       "      <td>6.467839e+04</td>\n",
       "      <td>208.903386</td>\n",
       "    </tr>\n",
       "    <tr>\n",
       "      <th>min</th>\n",
       "      <td>500.000000</td>\n",
       "      <td>5.420000</td>\n",
       "      <td>0.000000</td>\n",
       "      <td>4.000000e+03</td>\n",
       "      <td>15.690000</td>\n",
       "    </tr>\n",
       "    <tr>\n",
       "      <th>25%</th>\n",
       "      <td>5500.000000</td>\n",
       "      <td>8.940000</td>\n",
       "      <td>8.160000</td>\n",
       "      <td>4.100000e+04</td>\n",
       "      <td>167.380000</td>\n",
       "    </tr>\n",
       "    <tr>\n",
       "      <th>50%</th>\n",
       "      <td>10000.000000</td>\n",
       "      <td>11.830000</td>\n",
       "      <td>13.380000</td>\n",
       "      <td>6.000000e+04</td>\n",
       "      <td>280.000000</td>\n",
       "    </tr>\n",
       "    <tr>\n",
       "      <th>75%</th>\n",
       "      <td>15000.000000</td>\n",
       "      <td>14.420000</td>\n",
       "      <td>18.550000</td>\n",
       "      <td>8.300000e+04</td>\n",
       "      <td>429.040000</td>\n",
       "    </tr>\n",
       "    <tr>\n",
       "      <th>max</th>\n",
       "      <td>35000.000000</td>\n",
       "      <td>24.400000</td>\n",
       "      <td>29.990000</td>\n",
       "      <td>6.000000e+06</td>\n",
       "      <td>1305.190000</td>\n",
       "    </tr>\n",
       "  </tbody>\n",
       "</table>\n",
       "</div>"
      ]
     },
     "execution_count": 282,
     "metadata": {},
     "output_type": "execute_result"
    }
   ],
   "execution_count": 282
  },
  {
   "metadata": {
    "ExecuteTime": {
     "end_time": "2024-12-24T06:54:35.014610Z",
     "start_time": "2024-12-24T06:54:35.007697Z"
    }
   },
   "cell_type": "code",
   "source": "df_latest['installment'].value_counts()",
   "id": "13b0e4ac44819d66",
   "outputs": [
    {
     "data": {
      "text/plain": [
       "installment\n",
       "311.11    68\n",
       "311.02    54\n",
       "180.96    53\n",
       "150.80    46\n",
       "368.45    45\n",
       "          ..\n",
       "186.84     1\n",
       "748.32     1\n",
       "711.44     1\n",
       "148.04     1\n",
       "255.43     1\n",
       "Name: count, Length: 14799, dtype: int64"
      ]
     },
     "execution_count": 284,
     "metadata": {},
     "output_type": "execute_result"
    }
   ],
   "execution_count": 284
  },
  {
   "metadata": {
    "ExecuteTime": {
     "end_time": "2024-12-24T06:54:42.738072Z",
     "start_time": "2024-12-24T06:54:42.735738Z"
    }
   },
   "cell_type": "code",
   "source": "df_latest['installment'] = df_latest['installment'].astype(int)",
   "id": "7c76d31165f79334",
   "outputs": [],
   "execution_count": 285
  },
  {
   "metadata": {
    "ExecuteTime": {
     "end_time": "2024-12-24T06:54:44.876659Z",
     "start_time": "2024-12-24T06:54:44.872527Z"
    }
   },
   "cell_type": "code",
   "source": "df_latest['installment'].value_counts()",
   "id": "54054360fcfb5c98",
   "outputs": [
    {
     "data": {
      "text/plain": [
       "installment\n",
       "311     225\n",
       "155     186\n",
       "186     155\n",
       "248     155\n",
       "156     153\n",
       "       ... \n",
       "1218      1\n",
       "1302      1\n",
       "1022      1\n",
       "1237      1\n",
       "15        1\n",
       "Name: count, Length: 1048, dtype: int64"
      ]
     },
     "execution_count": 286,
     "metadata": {},
     "output_type": "execute_result"
    }
   ],
   "execution_count": 286
  },
  {
   "metadata": {
    "ExecuteTime": {
     "end_time": "2024-12-24T06:54:48.836579Z",
     "start_time": "2024-12-24T06:54:48.822956Z"
    }
   },
   "cell_type": "code",
   "source": "df_latest[['loan_amnt','int_rate','dti', 'annual_inc','installment']].describe()\n",
   "id": "8fea0639c950883c",
   "outputs": [
    {
     "data": {
      "text/plain": [
       "          loan_amnt      int_rate           dti    annual_inc   installment\n",
       "count  37541.000000  37541.000000  37541.000000  3.754100e+04  37541.000000\n",
       "mean   11119.771050     11.963580     13.284309  6.940618e+04    324.166351\n",
       "std     7354.173376      3.683037      6.660676  6.467839e+04    208.910477\n",
       "min      500.000000      5.420000      0.000000  4.000000e+03     15.000000\n",
       "25%     5500.000000      8.940000      8.160000  4.100000e+04    167.000000\n",
       "50%    10000.000000     11.830000     13.380000  6.000000e+04    280.000000\n",
       "75%    15000.000000     14.420000     18.550000  8.300000e+04    429.000000\n",
       "max    35000.000000     24.400000     29.990000  6.000000e+06   1305.000000"
      ],
      "text/html": [
       "<div>\n",
       "<style scoped>\n",
       "    .dataframe tbody tr th:only-of-type {\n",
       "        vertical-align: middle;\n",
       "    }\n",
       "\n",
       "    .dataframe tbody tr th {\n",
       "        vertical-align: top;\n",
       "    }\n",
       "\n",
       "    .dataframe thead th {\n",
       "        text-align: right;\n",
       "    }\n",
       "</style>\n",
       "<table border=\"1\" class=\"dataframe\">\n",
       "  <thead>\n",
       "    <tr style=\"text-align: right;\">\n",
       "      <th></th>\n",
       "      <th>loan_amnt</th>\n",
       "      <th>int_rate</th>\n",
       "      <th>dti</th>\n",
       "      <th>annual_inc</th>\n",
       "      <th>installment</th>\n",
       "    </tr>\n",
       "  </thead>\n",
       "  <tbody>\n",
       "    <tr>\n",
       "      <th>count</th>\n",
       "      <td>37541.000000</td>\n",
       "      <td>37541.000000</td>\n",
       "      <td>37541.000000</td>\n",
       "      <td>3.754100e+04</td>\n",
       "      <td>37541.000000</td>\n",
       "    </tr>\n",
       "    <tr>\n",
       "      <th>mean</th>\n",
       "      <td>11119.771050</td>\n",
       "      <td>11.963580</td>\n",
       "      <td>13.284309</td>\n",
       "      <td>6.940618e+04</td>\n",
       "      <td>324.166351</td>\n",
       "    </tr>\n",
       "    <tr>\n",
       "      <th>std</th>\n",
       "      <td>7354.173376</td>\n",
       "      <td>3.683037</td>\n",
       "      <td>6.660676</td>\n",
       "      <td>6.467839e+04</td>\n",
       "      <td>208.910477</td>\n",
       "    </tr>\n",
       "    <tr>\n",
       "      <th>min</th>\n",
       "      <td>500.000000</td>\n",
       "      <td>5.420000</td>\n",
       "      <td>0.000000</td>\n",
       "      <td>4.000000e+03</td>\n",
       "      <td>15.000000</td>\n",
       "    </tr>\n",
       "    <tr>\n",
       "      <th>25%</th>\n",
       "      <td>5500.000000</td>\n",
       "      <td>8.940000</td>\n",
       "      <td>8.160000</td>\n",
       "      <td>4.100000e+04</td>\n",
       "      <td>167.000000</td>\n",
       "    </tr>\n",
       "    <tr>\n",
       "      <th>50%</th>\n",
       "      <td>10000.000000</td>\n",
       "      <td>11.830000</td>\n",
       "      <td>13.380000</td>\n",
       "      <td>6.000000e+04</td>\n",
       "      <td>280.000000</td>\n",
       "    </tr>\n",
       "    <tr>\n",
       "      <th>75%</th>\n",
       "      <td>15000.000000</td>\n",
       "      <td>14.420000</td>\n",
       "      <td>18.550000</td>\n",
       "      <td>8.300000e+04</td>\n",
       "      <td>429.000000</td>\n",
       "    </tr>\n",
       "    <tr>\n",
       "      <th>max</th>\n",
       "      <td>35000.000000</td>\n",
       "      <td>24.400000</td>\n",
       "      <td>29.990000</td>\n",
       "      <td>6.000000e+06</td>\n",
       "      <td>1305.000000</td>\n",
       "    </tr>\n",
       "  </tbody>\n",
       "</table>\n",
       "</div>"
      ]
     },
     "execution_count": 287,
     "metadata": {},
     "output_type": "execute_result"
    }
   ],
   "execution_count": 287
  },
  {
   "metadata": {
    "ExecuteTime": {
     "end_time": "2024-12-24T06:54:51.656290Z",
     "start_time": "2024-12-24T06:54:51.653832Z"
    }
   },
   "cell_type": "code",
   "source": "df_latest.columns",
   "id": "b664a5ec0247868f",
   "outputs": [
    {
     "data": {
      "text/plain": [
       "Index(['id', 'loan_amnt', 'funded_amnt', 'funded_amnt_inv', 'term', 'int_rate',\n",
       "       'installment', 'grade', 'emp_length', 'home_ownership', 'annual_inc',\n",
       "       'verification_status', 'loan_status', 'purpose', 'addr_state', 'dti',\n",
       "       'delinq_2yrs', 'pub_rec', 'application_type', 'acc_now_delinq',\n",
       "       'delinq_amnt'],\n",
       "      dtype='object')"
      ]
     },
     "execution_count": 288,
     "metadata": {},
     "output_type": "execute_result"
    }
   ],
   "execution_count": 288
  },
  {
   "metadata": {
    "ExecuteTime": {
     "end_time": "2024-12-24T06:54:55.455024Z",
     "start_time": "2024-12-24T06:54:55.195468Z"
    }
   },
   "cell_type": "code",
   "source": [
    "# Distribution plots\n",
    "sns.histplot(data=df_latest, x='loan_amnt')\n",
    "plt.show()\n",
    "sns.kdeplot(data=df_latest, x='annual_inc')\n",
    "plt.show()\n",
    "sns.boxplot(data=df_latest, y='int_rate')\n",
    "plt.show()\n",
    "# Count plots for categorical\n",
    "sns.countplot(data=df_latest, x='grade')\n",
    "plt.show()"
   ],
   "id": "78e7bc6e829a4fbb",
   "outputs": [
    {
     "data": {
      "text/plain": [
       "<Figure size 640x480 with 1 Axes>"
      ],
      "image/png": "[encoded data removed]"
     },
     "metadata": {},
     "output_type": "display_data"
    },
    {
     "data": {
      "text/plain": [
       "<Figure size 640x480 with 1 Axes>"
      ],
      "image/png": "[encoded data removed]"
     },
     "metadata": {},
     "output_type": "display_data"
    },
    {
     "data": {
      "text/plain": [
       "<Figure size 640x480 with 1 Axes>"
      ],
      "image/png": "[encoded data removed]"
     },
     "metadata": {},
     "output_type": "display_data"
    },
    {
     "data": {
      "text/plain": [
       "<Figure size 640x480 with 1 Axes>"
      ],
      "image/png": "[encoded data removed]"
     },
     "metadata": {},
     "output_type": "display_data"
    }
   ],
   "execution_count": 289
  },
  {
   "metadata": {
    "ExecuteTime": {
     "end_time": "2024-12-24T06:55:32.455834Z",
     "start_time": "2024-12-24T06:55:32.375716Z"
    }
   },
   "cell_type": "code",
   "source": [
    "sns.countplot(data=df_latest, x='home_ownership', palette='viridis')\n",
    "plt.show()"
   ],
   "id": "e8f02348f00f59cc",
   "outputs": [
    {
     "data": {
      "text/plain": [
       "<Figure size 640x480 with 1 Axes>"
      ],
      "image/png": "[encoded data removed]"
     },
     "metadata": {},
     "output_type": "display_data"
    }
   ],
   "execution_count": 294
  },
  {
   "metadata": {
    "ExecuteTime": {
     "end_time": "2024-12-24T06:55:35.576126Z",
     "start_time": "2024-12-24T06:55:35.526326Z"
    }
   },
   "cell_type": "code",
   "source": [
    "sns.countplot(data=df_latest, x='loan_status', palette='inferno')\n",
    "plt.xticks([0, 1], ['Charged Off', 'Fully Paid'])\n",
    "plt.show()"
   ],
   "id": "698359344596ac02",
   "outputs": [
    {
     "data": {
      "text/plain": [
       "<Figure size 640x480 with 1 Axes>"
      ],
      "image/png": "[encoded data removed]"
     },
     "metadata": {},
     "output_type": "display_data"
    }
   ],
   "execution_count": 295
  },
  {
   "metadata": {},
   "cell_type": "code",
   "outputs": [],
   "execution_count": null,
   "source": "",
   "id": "af77883270c6e3a8"
  }
 ],
 "metadata": {
  "kernelspec": {
   "display_name": "Python 3",
   "language": "python",
   "name": "python3"
  },
  "language_info": {
   "codemirror_mode": {
    "name": "ipython",
    "version": 2
   },
   "file_extension": ".py",
   "mimetype": "text/x-python",
   "name": "python",
   "nbconvert_exporter": "python",
   "pygments_lexer": "ipython2",
   "version": "2.7.6"
  }
 },
 "nbformat": 4,
 "nbformat_minor": 5
}
