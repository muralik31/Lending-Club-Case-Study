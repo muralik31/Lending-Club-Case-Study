{
 "cells": [
  {
   "metadata": {
    "ExecuteTime": {
     "end_time": "2024-12-21T13:37:27.362745Z",
     "start_time": "2024-12-21T13:37:27.238681Z"
    }
   },
   "cell_type": "code",
   "source": "!which python",
   "id": "b0cb54770122a10a",
   "outputs": [
    {
     "name": "stdout",
     "output_type": "stream",
     "text": [
      "python not found\r\n"
     ]
    }
   ],
   "execution_count": 7
  },
  {
   "metadata": {},
   "cell_type": "code",
   "outputs": [],
   "execution_count": null,
   "source": "",
   "id": "b6c46b0e9f0173d4"
  }
 ],
 "metadata": {
  "kernelspec": {
   "display_name": "Python 3",
   "language": "python",
   "name": "python3"
  },
  "language_info": {
   "codemirror_mode": {
    "name": "ipython",
    "version": 2
   },
   "file_extension": ".py",
   "mimetype": "text/x-python",
   "name": "python",
   "nbconvert_exporter": "python",
   "pygments_lexer": "ipython2",
   "version": "2.7.6"
  }
 },
 "nbformat": 4,
 "nbformat_minor": 5
}
